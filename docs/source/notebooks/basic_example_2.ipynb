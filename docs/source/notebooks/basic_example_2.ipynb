{
 "cells": [
  {
   "cell_type": "markdown",
   "id": "b74076d1-4492-47f2-82ed-048ac5ba6bda",
   "metadata": {},
   "source": [
    "# Basic Example\n",
    "\n",
    "## Importing packages"
   ]
  },
  {
   "cell_type": "code",
   "execution_count": 1,
   "id": "28581650-315a-453e-858e-37e36846c74f",
   "metadata": {},
   "outputs": [
    {
     "name": "stderr",
     "output_type": "stream",
     "text": [
      "/home/murail/miniforge3/envs/docking/lib/python3.10/site-packages/Bio/Application/__init__.py:40: BiopythonDeprecationWarning: The Bio.Application modules and modules relying on it have been deprecated.\n",
      "\n",
      "Due to the on going maintenance burden of keeping command line application\n",
      "wrappers up to date, we have decided to deprecate and eventually remove these\n",
      "modules.\n",
      "\n",
      "We instead now recommend building your command line and invoking it directly\n",
      "with the subprocess module.\n",
      "  warnings.warn(\n"
     ]
    },
    {
     "data": {
      "application/vnd.jupyter.widget-view+json": {
       "model_id": "770c2bcfd2734259aad10f914d6c3325",
       "version_major": 2,
       "version_minor": 0
      },
      "text/plain": []
     },
     "metadata": {},
     "output_type": "display_data"
    }
   ],
   "source": [
    "import af2_analysis\n",
    "from af2_analysis import clustering\n",
    "from af2_analysis import peptide\n",
    "import nglview\n",
    "%matplotlib inline"
   ]
  },
  {
   "cell_type": "markdown",
   "id": "21cf6f92-76f2-436c-838b-fb44fbdf6241",
   "metadata": {},
   "source": [
    "## Importing Alpahfold Data "
   ]
  },
  {
   "cell_type": "code",
   "execution_count": 12,
   "id": "6a279354-9766-41da-8722-b34ad88eb27c",
   "metadata": {},
   "outputs": [
    {
     "data": {
      "application/vnd.jupyter.widget-view+json": {
       "model_id": "e5d9a2a68d434833a3e0836ce68d0f01",
       "version_major": 2,
       "version_minor": 0
      },
      "text/plain": [
       "  0%|          | 0/40 [00:00<?, ?it/s]"
      ]
     },
     "metadata": {},
     "output_type": "display_data"
    },
    {
     "data": {
      "application/vnd.jupyter.widget-view+json": {
       "model_id": "25fe8cfd413b4bf18196e926a320e8de",
       "version_major": 2,
       "version_minor": 0
      },
      "text/plain": [
       "  0%|          | 0/40 [00:00<?, ?it/s]"
      ]
     },
     "metadata": {},
     "output_type": "display_data"
    },
    {
     "data": {
      "text/html": [
       "<div>\n",
       "<style scoped>\n",
       "    .dataframe tbody tr th:only-of-type {\n",
       "        vertical-align: middle;\n",
       "    }\n",
       "\n",
       "    .dataframe tbody tr th {\n",
       "        vertical-align: top;\n",
       "    }\n",
       "\n",
       "    .dataframe thead th {\n",
       "        text-align: right;\n",
       "    }\n",
       "</style>\n",
       "<table border=\"1\" class=\"dataframe\">\n",
       "  <thead>\n",
       "    <tr style=\"text-align: right;\">\n",
       "      <th></th>\n",
       "      <th>query</th>\n",
       "      <th>seed</th>\n",
       "      <th>model</th>\n",
       "      <th>weight</th>\n",
       "      <th>recycle</th>\n",
       "      <th>pLDDT</th>\n",
       "      <th>pTM</th>\n",
       "      <th>ipTM</th>\n",
       "      <th>ranking_confidence</th>\n",
       "      <th>pdb</th>\n",
       "      <th>json</th>\n",
       "    </tr>\n",
       "  </thead>\n",
       "  <tbody>\n",
       "    <tr>\n",
       "      <th>0</th>\n",
       "      <td>beta_amyloid_dimer_d2fa3_0</td>\n",
       "      <td>0</td>\n",
       "      <td>1</td>\n",
       "      <td>alphafold2_multimer_v3</td>\n",
       "      <td>9</td>\n",
       "      <td>38.8</td>\n",
       "      <td>0.159</td>\n",
       "      <td>0.0812</td>\n",
       "      <td>0.09676</td>\n",
       "      <td>../../../src/af2_analysis/test/inputs/beta_amy...</td>\n",
       "      <td>../../../src/af2_analysis/test/inputs/beta_amy...</td>\n",
       "    </tr>\n",
       "    <tr>\n",
       "      <th>1</th>\n",
       "      <td>beta_amyloid_dimer_d2fa3_0</td>\n",
       "      <td>0</td>\n",
       "      <td>2</td>\n",
       "      <td>alphafold2_multimer_v3</td>\n",
       "      <td>16</td>\n",
       "      <td>35.2</td>\n",
       "      <td>0.130</td>\n",
       "      <td>0.0685</td>\n",
       "      <td>0.08080</td>\n",
       "      <td>../../../src/af2_analysis/test/inputs/beta_amy...</td>\n",
       "      <td>../../../src/af2_analysis/test/inputs/beta_amy...</td>\n",
       "    </tr>\n",
       "    <tr>\n",
       "      <th>2</th>\n",
       "      <td>beta_amyloid_dimer_d2fa3_0</td>\n",
       "      <td>0</td>\n",
       "      <td>3</td>\n",
       "      <td>alphafold2_multimer_v3</td>\n",
       "      <td>3</td>\n",
       "      <td>44.5</td>\n",
       "      <td>0.250</td>\n",
       "      <td>0.1610</td>\n",
       "      <td>0.17880</td>\n",
       "      <td>../../../src/af2_analysis/test/inputs/beta_amy...</td>\n",
       "      <td>../../../src/af2_analysis/test/inputs/beta_amy...</td>\n",
       "    </tr>\n",
       "    <tr>\n",
       "      <th>3</th>\n",
       "      <td>beta_amyloid_dimer_d2fa3_0</td>\n",
       "      <td>0</td>\n",
       "      <td>4</td>\n",
       "      <td>alphafold2_multimer_v3</td>\n",
       "      <td>5</td>\n",
       "      <td>44.2</td>\n",
       "      <td>0.234</td>\n",
       "      <td>0.1580</td>\n",
       "      <td>0.17320</td>\n",
       "      <td>../../../src/af2_analysis/test/inputs/beta_amy...</td>\n",
       "      <td>../../../src/af2_analysis/test/inputs/beta_amy...</td>\n",
       "    </tr>\n",
       "    <tr>\n",
       "      <th>4</th>\n",
       "      <td>beta_amyloid_dimer_d2fa3_0</td>\n",
       "      <td>0</td>\n",
       "      <td>5</td>\n",
       "      <td>alphafold2_multimer_v3</td>\n",
       "      <td>5</td>\n",
       "      <td>64.2</td>\n",
       "      <td>0.568</td>\n",
       "      <td>0.5410</td>\n",
       "      <td>0.54640</td>\n",
       "      <td>../../../src/af2_analysis/test/inputs/beta_amy...</td>\n",
       "      <td>../../../src/af2_analysis/test/inputs/beta_amy...</td>\n",
       "    </tr>\n",
       "  </tbody>\n",
       "</table>\n",
       "</div>"
      ],
      "text/plain": [
       "                        query  seed  model                  weight  recycle  \\\n",
       "0  beta_amyloid_dimer_d2fa3_0     0      1  alphafold2_multimer_v3        9   \n",
       "1  beta_amyloid_dimer_d2fa3_0     0      2  alphafold2_multimer_v3       16   \n",
       "2  beta_amyloid_dimer_d2fa3_0     0      3  alphafold2_multimer_v3        3   \n",
       "3  beta_amyloid_dimer_d2fa3_0     0      4  alphafold2_multimer_v3        5   \n",
       "4  beta_amyloid_dimer_d2fa3_0     0      5  alphafold2_multimer_v3        5   \n",
       "\n",
       "   pLDDT    pTM    ipTM  ranking_confidence  \\\n",
       "0   38.8  0.159  0.0812             0.09676   \n",
       "1   35.2  0.130  0.0685             0.08080   \n",
       "2   44.5  0.250  0.1610             0.17880   \n",
       "3   44.2  0.234  0.1580             0.17320   \n",
       "4   64.2  0.568  0.5410             0.54640   \n",
       "\n",
       "                                                 pdb  \\\n",
       "0  ../../../src/af2_analysis/test/inputs/beta_amy...   \n",
       "1  ../../../src/af2_analysis/test/inputs/beta_amy...   \n",
       "2  ../../../src/af2_analysis/test/inputs/beta_amy...   \n",
       "3  ../../../src/af2_analysis/test/inputs/beta_amy...   \n",
       "4  ../../../src/af2_analysis/test/inputs/beta_amy...   \n",
       "\n",
       "                                                json  \n",
       "0  ../../../src/af2_analysis/test/inputs/beta_amy...  \n",
       "1  ../../../src/af2_analysis/test/inputs/beta_amy...  \n",
       "2  ../../../src/af2_analysis/test/inputs/beta_amy...  \n",
       "3  ../../../src/af2_analysis/test/inputs/beta_amy...  \n",
       "4  ../../../src/af2_analysis/test/inputs/beta_amy...  "
      ]
     },
     "execution_count": 12,
     "metadata": {},
     "output_type": "execute_result"
    }
   ],
   "source": [
    "DATA_PATH = '../../../src/af2_analysis/test/inputs/beta_amyloid_dimer_cf_1.5.5/'\n",
    "my_data = af2_analysis.Data(DATA_PATH)\n",
    "my_data.df.head()"
   ]
  },
  {
   "cell_type": "markdown",
   "id": "d965dea2-ca35-4a16-b14d-cba0cf041c96",
   "metadata": {},
   "source": [
    "## show 3D structure"
   ]
  },
  {
   "cell_type": "code",
   "execution_count": 13,
   "id": "846289e8-1630-450d-ac55-8f4663cc1bed",
   "metadata": {},
   "outputs": [
    {
     "data": {
      "application/vnd.jupyter.widget-view+json": {
       "model_id": "0909009b12ef4303afb0ac0fafc8c75a",
       "version_major": 2,
       "version_minor": 0
      },
      "text/plain": [
       "NGLWidget()"
      ]
     },
     "metadata": {},
     "output_type": "display_data"
    }
   ],
   "source": [
    "view = my_data.show_3d(0)\n",
    "view"
   ]
  },
  {
   "cell_type": "markdown",
   "id": "a6c508b0-9a5e-4413-a4e7-fcde6816cb81",
   "metadata": {},
   "source": [
    "## Computing scores\n"
   ]
  },
  {
   "cell_type": "code",
   "execution_count": 14,
   "id": "14765052-27c2-4d1a-ad3d-9fe57a9c5b25",
   "metadata": {},
   "outputs": [
    {
     "data": {
      "application/vnd.jupyter.widget-view+json": {
       "model_id": "067d7bd6feee4e328e9a13e35f46999c",
       "version_major": 2,
       "version_minor": 0
      },
      "text/plain": [
       "  0%|          | 0/40 [00:00<?, ?it/s]"
      ]
     },
     "metadata": {},
     "output_type": "display_data"
    },
    {
     "data": {
      "application/vnd.jupyter.widget-view+json": {
       "model_id": "59d0dc4d9d1b4031ae93ac0bb121566f",
       "version_major": 2,
       "version_minor": 0
      },
      "text/plain": [
       "  0%|          | 0/40 [00:00<?, ?it/s]"
      ]
     },
     "metadata": {},
     "output_type": "display_data"
    }
   ],
   "source": [
    "#compute_pdockq\n",
    "my_data.compute_pdockq()\n",
    "#compute_pdockq2\n",
    "my_data.compute_pdockq2()"
   ]
  },
  {
   "cell_type": "code",
   "execution_count": 15,
   "id": "6bed4d3c-1a44-483e-840f-5cc31b18b5b5",
   "metadata": {},
   "outputs": [
    {
     "data": {
      "application/vnd.jupyter.widget-view+json": {
       "model_id": "d3ce0efc0fcc497eb57840122e30d020",
       "version_major": 2,
       "version_minor": 0
      },
      "text/plain": [
       "  0%|          | 0/40 [00:00<?, ?it/s]"
      ]
     },
     "metadata": {},
     "output_type": "display_data"
    },
    {
     "data": {
      "application/vnd.jupyter.widget-view+json": {
       "model_id": "ea573fc679d344e4ac6d047c6a492c9c",
       "version_major": 2,
       "version_minor": 0
      },
      "text/plain": [
       "  0%|          | 0/40 [00:00<?, ?it/s]"
      ]
     },
     "metadata": {},
     "output_type": "display_data"
    },
    {
     "data": {
      "application/vnd.jupyter.widget-view+json": {
       "model_id": "6ed368be05d14c17a50164668d9e62c8",
       "version_major": 2,
       "version_minor": 0
      },
      "text/plain": [
       "  0%|          | 0/40 [00:00<?, ?it/s]"
      ]
     },
     "metadata": {},
     "output_type": "display_data"
    },
    {
     "data": {
      "application/vnd.jupyter.widget-view+json": {
       "model_id": "0b2daad15a434c0a9c0fcf43fc2ba02f",
       "version_major": 2,
       "version_minor": 0
      },
      "text/plain": [
       "  0%|          | 0/40 [00:00<?, ?it/s]"
      ]
     },
     "metadata": {},
     "output_type": "display_data"
    },
    {
     "data": {
      "application/vnd.jupyter.widget-view+json": {
       "model_id": "6c6989c516994f62ac8d3f4bc71396c0",
       "version_major": 2,
       "version_minor": 0
      },
      "text/plain": [
       "  0%|          | 0/40 [00:00<?, ?it/s]"
      ]
     },
     "metadata": {},
     "output_type": "display_data"
    }
   ],
   "source": [
    "#extract_pae_pep\n",
    "peptide.extract_pae_pep(my_data)\n",
    "#compute_pdockq2_lig\n",
    "peptide.compute_pdockq2_lig(my_data)\n",
    "#compute_LIS_pep\n",
    "peptide.compute_LIS_pep(my_data)\n",
    "#extract_plddt_pep\n",
    "peptide.extract_plddt_pep(my_data)\n"
   ]
  },
  {
   "cell_type": "code",
   "execution_count": 16,
   "id": "ca29d6d0-1a00-4bed-9c5a-1ac5d81137de",
   "metadata": {},
   "outputs": [
    {
     "data": {
      "text/html": [
       "<div>\n",
       "<style scoped>\n",
       "    .dataframe tbody tr th:only-of-type {\n",
       "        vertical-align: middle;\n",
       "    }\n",
       "\n",
       "    .dataframe tbody tr th {\n",
       "        vertical-align: top;\n",
       "    }\n",
       "\n",
       "    .dataframe thead th {\n",
       "        text-align: right;\n",
       "    }\n",
       "</style>\n",
       "<table border=\"1\" class=\"dataframe\">\n",
       "  <thead>\n",
       "    <tr style=\"text-align: right;\">\n",
       "      <th></th>\n",
       "      <th>query</th>\n",
       "      <th>seed</th>\n",
       "      <th>model</th>\n",
       "      <th>weight</th>\n",
       "      <th>recycle</th>\n",
       "      <th>pLDDT</th>\n",
       "      <th>pTM</th>\n",
       "      <th>ipTM</th>\n",
       "      <th>ranking_confidence</th>\n",
       "      <th>pdb</th>\n",
       "      <th>...</th>\n",
       "      <th>PAE_A_B</th>\n",
       "      <th>PAE_B_A</th>\n",
       "      <th>PAE_B_B</th>\n",
       "      <th>PAE_pep_rec</th>\n",
       "      <th>PAE_rec_pep</th>\n",
       "      <th>pdockq2_lig</th>\n",
       "      <th>LIS</th>\n",
       "      <th>LIS_rec_pep</th>\n",
       "      <th>LIS_pep_rec</th>\n",
       "      <th>plddt_pep</th>\n",
       "    </tr>\n",
       "  </thead>\n",
       "  <tbody>\n",
       "    <tr>\n",
       "      <th>0</th>\n",
       "      <td>beta_amyloid_dimer_d2fa3_0</td>\n",
       "      <td>0</td>\n",
       "      <td>1</td>\n",
       "      <td>alphafold2_multimer_v3</td>\n",
       "      <td>9</td>\n",
       "      <td>38.8</td>\n",
       "      <td>0.159</td>\n",
       "      <td>0.0812</td>\n",
       "      <td>0.09676</td>\n",
       "      <td>../../../src/af2_analysis/test/inputs/beta_amy...</td>\n",
       "      <td>...</td>\n",
       "      <td>20.984252</td>\n",
       "      <td>21.026196</td>\n",
       "      <td>16.054161</td>\n",
       "      <td>21.026196</td>\n",
       "      <td>20.984252</td>\n",
       "      <td>0.011992</td>\n",
       "      <td>[[0.44785182119205297, 0.11038825757575756], [...</td>\n",
       "      <td>0.107481</td>\n",
       "      <td>0.110388</td>\n",
       "      <td>38.685476</td>\n",
       "    </tr>\n",
       "    <tr>\n",
       "      <th>1</th>\n",
       "      <td>beta_amyloid_dimer_d2fa3_0</td>\n",
       "      <td>0</td>\n",
       "      <td>2</td>\n",
       "      <td>alphafold2_multimer_v3</td>\n",
       "      <td>16</td>\n",
       "      <td>35.2</td>\n",
       "      <td>0.130</td>\n",
       "      <td>0.0685</td>\n",
       "      <td>0.08080</td>\n",
       "      <td>../../../src/af2_analysis/test/inputs/beta_amy...</td>\n",
       "      <td>...</td>\n",
       "      <td>22.746667</td>\n",
       "      <td>22.760130</td>\n",
       "      <td>17.193441</td>\n",
       "      <td>22.760130</td>\n",
       "      <td>22.746667</td>\n",
       "      <td>0.010624</td>\n",
       "      <td>[[0.4598769470404984, 0.10359090909090911], [0...</td>\n",
       "      <td>0.103333</td>\n",
       "      <td>0.103591</td>\n",
       "      <td>34.902857</td>\n",
       "    </tr>\n",
       "    <tr>\n",
       "      <th>2</th>\n",
       "      <td>beta_amyloid_dimer_d2fa3_0</td>\n",
       "      <td>0</td>\n",
       "      <td>3</td>\n",
       "      <td>alphafold2_multimer_v3</td>\n",
       "      <td>3</td>\n",
       "      <td>44.5</td>\n",
       "      <td>0.250</td>\n",
       "      <td>0.1610</td>\n",
       "      <td>0.17880</td>\n",
       "      <td>../../../src/af2_analysis/test/inputs/beta_amy...</td>\n",
       "      <td>...</td>\n",
       "      <td>19.257993</td>\n",
       "      <td>19.228260</td>\n",
       "      <td>13.493810</td>\n",
       "      <td>19.228260</td>\n",
       "      <td>19.257993</td>\n",
       "      <td>0.014287</td>\n",
       "      <td>[[0.48629706152433433, 0.08237745098039216], [...</td>\n",
       "      <td>0.084944</td>\n",
       "      <td>0.082377</td>\n",
       "      <td>44.560238</td>\n",
       "    </tr>\n",
       "    <tr>\n",
       "      <th>3</th>\n",
       "      <td>beta_amyloid_dimer_d2fa3_0</td>\n",
       "      <td>0</td>\n",
       "      <td>4</td>\n",
       "      <td>alphafold2_multimer_v3</td>\n",
       "      <td>5</td>\n",
       "      <td>44.2</td>\n",
       "      <td>0.234</td>\n",
       "      <td>0.1580</td>\n",
       "      <td>0.17320</td>\n",
       "      <td>../../../src/af2_analysis/test/inputs/beta_amy...</td>\n",
       "      <td>...</td>\n",
       "      <td>19.288968</td>\n",
       "      <td>19.363730</td>\n",
       "      <td>14.125618</td>\n",
       "      <td>19.363730</td>\n",
       "      <td>19.288968</td>\n",
       "      <td>0.016360</td>\n",
       "      <td>[[0.4926578192252511, 0.10013468013468015], [0...</td>\n",
       "      <td>0.099600</td>\n",
       "      <td>0.100135</td>\n",
       "      <td>44.120952</td>\n",
       "    </tr>\n",
       "    <tr>\n",
       "      <th>4</th>\n",
       "      <td>beta_amyloid_dimer_d2fa3_0</td>\n",
       "      <td>0</td>\n",
       "      <td>5</td>\n",
       "      <td>alphafold2_multimer_v3</td>\n",
       "      <td>5</td>\n",
       "      <td>64.2</td>\n",
       "      <td>0.568</td>\n",
       "      <td>0.5410</td>\n",
       "      <td>0.54640</td>\n",
       "      <td>../../../src/af2_analysis/test/inputs/beta_amy...</td>\n",
       "      <td>...</td>\n",
       "      <td>11.075300</td>\n",
       "      <td>11.190368</td>\n",
       "      <td>8.268022</td>\n",
       "      <td>11.190368</td>\n",
       "      <td>11.075300</td>\n",
       "      <td>0.168438</td>\n",
       "      <td>[[0.5450712678169541, 0.41792701625268325], [0...</td>\n",
       "      <td>0.417809</td>\n",
       "      <td>0.417927</td>\n",
       "      <td>64.091667</td>\n",
       "    </tr>\n",
       "  </tbody>\n",
       "</table>\n",
       "<p>5 rows × 25 columns</p>\n",
       "</div>"
      ],
      "text/plain": [
       "                        query  seed  model                  weight  recycle  \\\n",
       "0  beta_amyloid_dimer_d2fa3_0     0      1  alphafold2_multimer_v3        9   \n",
       "1  beta_amyloid_dimer_d2fa3_0     0      2  alphafold2_multimer_v3       16   \n",
       "2  beta_amyloid_dimer_d2fa3_0     0      3  alphafold2_multimer_v3        3   \n",
       "3  beta_amyloid_dimer_d2fa3_0     0      4  alphafold2_multimer_v3        5   \n",
       "4  beta_amyloid_dimer_d2fa3_0     0      5  alphafold2_multimer_v3        5   \n",
       "\n",
       "   pLDDT    pTM    ipTM  ranking_confidence  \\\n",
       "0   38.8  0.159  0.0812             0.09676   \n",
       "1   35.2  0.130  0.0685             0.08080   \n",
       "2   44.5  0.250  0.1610             0.17880   \n",
       "3   44.2  0.234  0.1580             0.17320   \n",
       "4   64.2  0.568  0.5410             0.54640   \n",
       "\n",
       "                                                 pdb  ...    PAE_A_B  \\\n",
       "0  ../../../src/af2_analysis/test/inputs/beta_amy...  ...  20.984252   \n",
       "1  ../../../src/af2_analysis/test/inputs/beta_amy...  ...  22.746667   \n",
       "2  ../../../src/af2_analysis/test/inputs/beta_amy...  ...  19.257993   \n",
       "3  ../../../src/af2_analysis/test/inputs/beta_amy...  ...  19.288968   \n",
       "4  ../../../src/af2_analysis/test/inputs/beta_amy...  ...  11.075300   \n",
       "\n",
       "     PAE_B_A    PAE_B_B  PAE_pep_rec  PAE_rec_pep  pdockq2_lig  \\\n",
       "0  21.026196  16.054161    21.026196    20.984252     0.011992   \n",
       "1  22.760130  17.193441    22.760130    22.746667     0.010624   \n",
       "2  19.228260  13.493810    19.228260    19.257993     0.014287   \n",
       "3  19.363730  14.125618    19.363730    19.288968     0.016360   \n",
       "4  11.190368   8.268022    11.190368    11.075300     0.168438   \n",
       "\n",
       "                                                 LIS  LIS_rec_pep  \\\n",
       "0  [[0.44785182119205297, 0.11038825757575756], [...     0.107481   \n",
       "1  [[0.4598769470404984, 0.10359090909090911], [0...     0.103333   \n",
       "2  [[0.48629706152433433, 0.08237745098039216], [...     0.084944   \n",
       "3  [[0.4926578192252511, 0.10013468013468015], [0...     0.099600   \n",
       "4  [[0.5450712678169541, 0.41792701625268325], [0...     0.417809   \n",
       "\n",
       "   LIS_pep_rec  plddt_pep  \n",
       "0     0.110388  38.685476  \n",
       "1     0.103591  34.902857  \n",
       "2     0.082377  44.560238  \n",
       "3     0.100135  44.120952  \n",
       "4     0.417927  64.091667  \n",
       "\n",
       "[5 rows x 25 columns]"
      ]
     },
     "execution_count": 16,
     "metadata": {},
     "output_type": "execute_result"
    }
   ],
   "source": [
    "my_data.df.head()"
   ]
  },
  {
   "cell_type": "markdown",
   "id": "a6069552-b70f-4cbc-990a-14e2632ffad0",
   "metadata": {},
   "source": [
    "## Plots"
   ]
  },
  {
   "cell_type": "markdown",
   "id": "d22e8678-fb1d-487b-85ad-e1b4141fbcb7",
   "metadata": {},
   "source": [
    "### Plddt plot"
   ]
  },
  {
   "cell_type": "code",
   "execution_count": 17,
   "id": "79eaa30e-5606-477a-9a95-342a7dcf5b07",
   "metadata": {},
   "outputs": [
    {
     "data": {
      "text/plain": [
       "(<Figure size 640x480 with 1 Axes>,\n",
       " <Axes: xlabel='Residue', ylabel='predicted LDDT'>)"
      ]
     },
     "execution_count": 17,
     "metadata": {},
     "output_type": "execute_result"
    },
    {
     "data": {
      "image/png": "[encoded data removed]",
      "text/plain": [
       "<Figure size 640x480 with 1 Axes>"
      ]
     },
     "metadata": {},
     "output_type": "display_data"
    }
   ],
   "source": [
    "# Model 1\n",
    "my_data.plot_plddt([0])"
   ]
  },
  {
   "cell_type": "code",
   "execution_count": 18,
   "id": "8ff76f34-6a95-4ecf-ba34-b25560886681",
   "metadata": {},
   "outputs": [
    {
     "data": {
      "text/plain": [
       "(<Figure size 640x480 with 1 Axes>,\n",
       " <Axes: xlabel='Residue', ylabel='predicted LDDT'>)"
      ]
     },
     "execution_count": 18,
     "metadata": {},
     "output_type": "execute_result"
    },
    {
     "data": {
      "image/png": "[encoded data removed]",
      "text/plain": [
       "<Figure size 640x480 with 1 Axes>"
      ]
     },
     "metadata": {},
     "output_type": "display_data"
    }
   ],
   "source": [
    "# Model 1 and 2  \n",
    "my_data.plot_plddt([0,1])"
   ]
  },
  {
   "cell_type": "markdown",
   "id": "bcfe64f3-71cb-434f-9398-cb6ebdfdef8c",
   "metadata": {},
   "source": [
    "### Plddt pae"
   ]
  },
  {
   "cell_type": "code",
   "execution_count": 19,
   "id": "991851bf-5bde-431c-ae14-20b568a52486",
   "metadata": {},
   "outputs": [
    {
     "data": {
      "text/plain": [
       "(<Figure size 640x480 with 2 Axes>, <Axes: >)"
      ]
     },
     "execution_count": 19,
     "metadata": {},
     "output_type": "execute_result"
    },
    {
     "data": {
      "image/png": "[encoded data removed]",
      "text/plain": [
       "<Figure size 640x480 with 2 Axes>"
      ]
     },
     "metadata": {},
     "output_type": "display_data"
    }
   ],
   "source": [
    "# Model 1\n",
    "my_data.plot_pae(0)"
   ]
  },
  {
   "cell_type": "markdown",
   "id": "2190c34c-177b-445b-8e04-6124180a885c",
   "metadata": {},
   "source": [
    "## Clustering"
   ]
  },
  {
   "cell_type": "code",
   "execution_count": 23,
   "id": "6a31d9a2-3b57-468c-97ad-eeaa31ccab26",
   "metadata": {},
   "outputs": [
    {
     "name": "stdout",
     "output_type": "stream",
     "text": [
      "Read all structures\n"
     ]
    },
    {
     "ename": "IndexError",
     "evalue": "index 636 is out of bounds for axis 0 with size 636",
     "output_type": "error",
     "traceback": [
      "\u001b[0;31m---------------------------------------------------------------------------\u001b[0m",
      "\u001b[0;31mIndexError\u001b[0m                                Traceback (most recent call last)",
      "Cell \u001b[0;32mIn[23], line 1\u001b[0m\n\u001b[0;32m----> 1\u001b[0m \u001b[43mclustering\u001b[49m\u001b[38;5;241;43m.\u001b[39;49m\u001b[43mhierarchical\u001b[49m\u001b[43m(\u001b[49m\u001b[43mmy_data\u001b[49m\u001b[38;5;241;43m.\u001b[39;49m\u001b[43mdf\u001b[49m\u001b[43m)\u001b[49m\n",
      "File \u001b[0;32m~/miniforge3/envs/docking/lib/python3.10/site-packages/af2_analysis/clustering.py:129\u001b[0m, in \u001b[0;36mhierarchical\u001b[0;34m(df, threshold, contact_cutoff, show_dendrogram, show_cluster_distribution)\u001b[0m\n\u001b[1;32m    126\u001b[0m \u001b[38;5;28;01massert\u001b[39;00m null_number \u001b[38;5;241m==\u001b[39m \u001b[38;5;28msum\u001b[39m(pd\u001b[38;5;241m.\u001b[39misnull(df[df[\u001b[38;5;124m'\u001b[39m\u001b[38;5;124mquery\u001b[39m\u001b[38;5;124m'\u001b[39m] \u001b[38;5;241m==\u001b[39m pdb][\u001b[38;5;124m'\u001b[39m\u001b[38;5;124mpdb\u001b[39m\u001b[38;5;124m'\u001b[39m][\u001b[38;5;241m-\u001b[39mnull_number:])), \u001b[38;5;124mf\u001b[39m\u001b[38;5;124m\"\u001b[39m\u001b[38;5;124mMissing pdb data in the middle of the query \u001b[39m\u001b[38;5;132;01m{\u001b[39;00mpdb\u001b[38;5;132;01m}\u001b[39;00m\u001b[38;5;124m\"\u001b[39m\n\u001b[1;32m    128\u001b[0m \u001b[38;5;28mprint\u001b[39m(\u001b[38;5;124m\"\u001b[39m\u001b[38;5;124mRead all structures\u001b[39m\u001b[38;5;124m\"\u001b[39m)\n\u001b[0;32m--> 129\u001b[0m u \u001b[38;5;241m=\u001b[39m \u001b[43mread_numerous_pdb\u001b[49m\u001b[43m(\u001b[49m\u001b[43mfiles\u001b[49m\u001b[43m)\u001b[49m\n\u001b[1;32m    130\u001b[0m \u001b[38;5;28;01massert\u001b[39;00m u\u001b[38;5;241m.\u001b[39mtrajectory\u001b[38;5;241m.\u001b[39mn_frames \u001b[38;5;241m==\u001b[39m \u001b[38;5;28mlen\u001b[39m(files), \u001b[38;5;124mf\u001b[39m\u001b[38;5;124m\"\u001b[39m\u001b[38;5;124mNumber of frames \u001b[39m\u001b[38;5;132;01m{\u001b[39;00mu\u001b[38;5;241m.\u001b[39mtrajectory\u001b[38;5;241m.\u001b[39mn_frames\u001b[38;5;132;01m}\u001b[39;00m\u001b[38;5;124m different from number of files \u001b[39m\u001b[38;5;132;01m{\u001b[39;00m\u001b[38;5;28mlen\u001b[39m(files)\u001b[38;5;132;01m}\u001b[39;00m\u001b[38;5;124m\"\u001b[39m\n\u001b[1;32m    131\u001b[0m chain_pep_value \u001b[38;5;241m=\u001b[39m chain_pep(files[\u001b[38;5;241m0\u001b[39m])\n",
      "File \u001b[0;32m~/miniforge3/envs/docking/lib/python3.10/site-packages/af2_analysis/clustering.py:228\u001b[0m, in \u001b[0;36mread_numerous_pdb\u001b[0;34m(pdb_files, batch_size)\u001b[0m\n\u001b[1;32m    224\u001b[0m     \u001b[38;5;28;01mreturn\u001b[39;00m mda\u001b[38;5;241m.\u001b[39mUniverse(\u001b[38;5;124m\"\u001b[39m\u001b[38;5;124mtmp.pdb\u001b[39m\u001b[38;5;124m\"\u001b[39m, \u001b[38;5;124m\"\u001b[39m\u001b[38;5;124mtmp.pdb\u001b[39m\u001b[38;5;124m\"\u001b[39m)\n\u001b[1;32m    226\u001b[0m \u001b[38;5;28;01mfor\u001b[39;00m i \u001b[38;5;129;01min\u001b[39;00m \u001b[38;5;28mrange\u001b[39m(\u001b[38;5;241m0\u001b[39m, \u001b[38;5;28mlen\u001b[39m(pdb_files), batch_size):\n\u001b[1;32m    227\u001b[0m     \u001b[38;5;66;03m# print(f\"Reading frames {i:5} to {i+batch_size:5}, total : {len(pdb_files[i:i+batch_size])} frames\")\u001b[39;00m\n\u001b[0;32m--> 228\u001b[0m     local_u \u001b[38;5;241m=\u001b[39m \u001b[43mmda\u001b[49m\u001b[38;5;241;43m.\u001b[39;49m\u001b[43mUniverse\u001b[49m\u001b[43m(\u001b[49m\u001b[43mpdb_files\u001b[49m\u001b[43m[\u001b[49m\u001b[38;5;241;43m0\u001b[39;49m\u001b[43m]\u001b[49m\u001b[43m,\u001b[49m\u001b[43m \u001b[49m\u001b[43mpdb_files\u001b[49m\u001b[43m[\u001b[49m\u001b[43mi\u001b[49m\u001b[43m:\u001b[49m\u001b[43mi\u001b[49m\u001b[38;5;241;43m+\u001b[39;49m\u001b[43mbatch_size\u001b[49m\u001b[43m]\u001b[49m\u001b[43m)\u001b[49m\n\u001b[1;32m    229\u001b[0m     \u001b[38;5;28;01mfor\u001b[39;00m ts \u001b[38;5;129;01min\u001b[39;00m local_u\u001b[38;5;241m.\u001b[39mtrajectory:\n\u001b[1;32m    230\u001b[0m         all_frames\u001b[38;5;241m.\u001b[39mappend(ts\u001b[38;5;241m.\u001b[39mpositions\u001b[38;5;241m.\u001b[39mcopy())\n",
      "File \u001b[0;32m~/miniforge3/envs/docking/lib/python3.10/site-packages/MDAnalysis/core/universe.py:375\u001b[0m, in \u001b[0;36mUniverse.__init__\u001b[0;34m(self, topology, all_coordinates, format, topology_format, transformations, guess_bonds, vdwradii, fudge_factor, lower_bound, in_memory, in_memory_step, *coordinates, **kwargs)\u001b[0m\n\u001b[1;32m    370\u001b[0m coordinates \u001b[38;5;241m=\u001b[39m _resolve_coordinates(\u001b[38;5;28mself\u001b[39m\u001b[38;5;241m.\u001b[39mfilename, \u001b[38;5;241m*\u001b[39mcoordinates,\n\u001b[1;32m    371\u001b[0m                                    \u001b[38;5;28mformat\u001b[39m\u001b[38;5;241m=\u001b[39m\u001b[38;5;28mformat\u001b[39m,\n\u001b[1;32m    372\u001b[0m                                    all_coordinates\u001b[38;5;241m=\u001b[39mall_coordinates)\n\u001b[1;32m    374\u001b[0m \u001b[38;5;28;01mif\u001b[39;00m coordinates:\n\u001b[0;32m--> 375\u001b[0m     \u001b[38;5;28;43mself\u001b[39;49m\u001b[38;5;241;43m.\u001b[39;49m\u001b[43mload_new\u001b[49m\u001b[43m(\u001b[49m\u001b[43mcoordinates\u001b[49m\u001b[43m,\u001b[49m\u001b[43m \u001b[49m\u001b[38;5;28;43mformat\u001b[39;49m\u001b[38;5;241;43m=\u001b[39;49m\u001b[38;5;28;43mformat\u001b[39;49m\u001b[43m,\u001b[49m\u001b[43m \u001b[49m\u001b[43min_memory\u001b[49m\u001b[38;5;241;43m=\u001b[39;49m\u001b[43min_memory\u001b[49m\u001b[43m,\u001b[49m\n\u001b[1;32m    376\u001b[0m \u001b[43m                \u001b[49m\u001b[43min_memory_step\u001b[49m\u001b[38;5;241;43m=\u001b[39;49m\u001b[43min_memory_step\u001b[49m\u001b[43m,\u001b[49m\u001b[43m \u001b[49m\u001b[38;5;241;43m*\u001b[39;49m\u001b[38;5;241;43m*\u001b[39;49m\u001b[43mkwargs\u001b[49m\u001b[43m)\u001b[49m\n\u001b[1;32m    378\u001b[0m \u001b[38;5;28;01mif\u001b[39;00m transformations:\n\u001b[1;32m    379\u001b[0m     \u001b[38;5;28;01mif\u001b[39;00m \u001b[38;5;28mcallable\u001b[39m(transformations):\n",
      "File \u001b[0;32m~/miniforge3/envs/docking/lib/python3.10/site-packages/MDAnalysis/core/universe.py:580\u001b[0m, in \u001b[0;36mUniverse.load_new\u001b[0;34m(self, filename, format, in_memory, in_memory_step, **kwargs)\u001b[0m\n\u001b[1;32m    577\u001b[0m \u001b[38;5;66;03m# supply number of atoms for readers that cannot do it for themselves\u001b[39;00m\n\u001b[1;32m    578\u001b[0m kwargs[\u001b[38;5;124m'\u001b[39m\u001b[38;5;124mn_atoms\u001b[39m\u001b[38;5;124m'\u001b[39m] \u001b[38;5;241m=\u001b[39m \u001b[38;5;28mself\u001b[39m\u001b[38;5;241m.\u001b[39matoms\u001b[38;5;241m.\u001b[39mn_atoms\n\u001b[0;32m--> 580\u001b[0m \u001b[38;5;28mself\u001b[39m\u001b[38;5;241m.\u001b[39mtrajectory \u001b[38;5;241m=\u001b[39m \u001b[43mreader\u001b[49m\u001b[43m(\u001b[49m\u001b[43mfilename\u001b[49m\u001b[43m,\u001b[49m\u001b[43m \u001b[49m\u001b[38;5;28;43mformat\u001b[39;49m\u001b[38;5;241;43m=\u001b[39;49m\u001b[38;5;28;43mformat\u001b[39;49m\u001b[43m,\u001b[49m\u001b[43m \u001b[49m\u001b[38;5;241;43m*\u001b[39;49m\u001b[38;5;241;43m*\u001b[39;49m\u001b[43mkwargs\u001b[49m\u001b[43m)\u001b[49m\n\u001b[1;32m    581\u001b[0m \u001b[38;5;28;01mif\u001b[39;00m \u001b[38;5;28mself\u001b[39m\u001b[38;5;241m.\u001b[39mtrajectory\u001b[38;5;241m.\u001b[39mn_atoms \u001b[38;5;241m!=\u001b[39m \u001b[38;5;28mlen\u001b[39m(\u001b[38;5;28mself\u001b[39m\u001b[38;5;241m.\u001b[39matoms):\n\u001b[1;32m    582\u001b[0m     \u001b[38;5;28;01mraise\u001b[39;00m \u001b[38;5;167;01mValueError\u001b[39;00m(\u001b[38;5;124m\"\u001b[39m\u001b[38;5;124mThe topology and \u001b[39m\u001b[38;5;132;01m{form}\u001b[39;00m\u001b[38;5;124m trajectory files don\u001b[39m\u001b[38;5;124m'\u001b[39m\u001b[38;5;124mt\u001b[39m\u001b[38;5;124m\"\u001b[39m\n\u001b[1;32m    583\u001b[0m                      \u001b[38;5;124m\"\u001b[39m\u001b[38;5;124m have the same number of atoms!\u001b[39m\u001b[38;5;130;01m\\n\u001b[39;00m\u001b[38;5;124m\"\u001b[39m\n\u001b[1;32m    584\u001b[0m                      \u001b[38;5;124m\"\u001b[39m\u001b[38;5;124mTopology number of atoms \u001b[39m\u001b[38;5;132;01m{top_n_atoms}\u001b[39;00m\u001b[38;5;130;01m\\n\u001b[39;00m\u001b[38;5;124m\"\u001b[39m\n\u001b[0;32m   (...)\u001b[0m\n\u001b[1;32m    588\u001b[0m                          fname\u001b[38;5;241m=\u001b[39mfilename,\n\u001b[1;32m    589\u001b[0m                          trj_n_atoms\u001b[38;5;241m=\u001b[39m\u001b[38;5;28mself\u001b[39m\u001b[38;5;241m.\u001b[39mtrajectory\u001b[38;5;241m.\u001b[39mn_atoms))\n",
      "File \u001b[0;32m~/miniforge3/envs/docking/lib/python3.10/site-packages/MDAnalysis/lib/util.py:2553\u001b[0m, in \u001b[0;36mstore_init_arguments.<locals>.wrapper\u001b[0;34m(self, *args, **kwargs)\u001b[0m\n\u001b[1;32m   2551\u001b[0m             \u001b[38;5;28;01melse\u001b[39;00m:\n\u001b[1;32m   2552\u001b[0m                 \u001b[38;5;28mself\u001b[39m\u001b[38;5;241m.\u001b[39m_kwargs[key] \u001b[38;5;241m=\u001b[39m arg\n\u001b[0;32m-> 2553\u001b[0m \u001b[38;5;28;01mreturn\u001b[39;00m \u001b[43mfunc\u001b[49m\u001b[43m(\u001b[49m\u001b[38;5;28;43mself\u001b[39;49m\u001b[43m,\u001b[49m\u001b[43m \u001b[49m\u001b[38;5;241;43m*\u001b[39;49m\u001b[43margs\u001b[49m\u001b[43m,\u001b[49m\u001b[43m \u001b[49m\u001b[38;5;241;43m*\u001b[39;49m\u001b[38;5;241;43m*\u001b[39;49m\u001b[43mkwargs\u001b[49m\u001b[43m)\u001b[49m\n",
      "File \u001b[0;32m~/miniforge3/envs/docking/lib/python3.10/site-packages/MDAnalysis/coordinates/chain.py:270\u001b[0m, in \u001b[0;36mChainReader.__init__\u001b[0;34m(self, filenames, skip, dt, continuous, convert_units, **kwargs)\u001b[0m\n\u001b[1;32m    268\u001b[0m \u001b[38;5;28;01mif\u001b[39;00m dt \u001b[38;5;129;01mis\u001b[39;00m \u001b[38;5;129;01mnot\u001b[39;00m \u001b[38;5;28;01mNone\u001b[39;00m:\n\u001b[1;32m    269\u001b[0m     kwargs[\u001b[38;5;124m'\u001b[39m\u001b[38;5;124mdt\u001b[39m\u001b[38;5;124m'\u001b[39m] \u001b[38;5;241m=\u001b[39m dt\n\u001b[0;32m--> 270\u001b[0m \u001b[38;5;28mself\u001b[39m\u001b[38;5;241m.\u001b[39mreaders \u001b[38;5;241m=\u001b[39m [core\u001b[38;5;241m.\u001b[39mreader(filename, convert_units\u001b[38;5;241m=\u001b[39mconvert_units, \u001b[38;5;241m*\u001b[39m\u001b[38;5;241m*\u001b[39mkwargs)\n\u001b[1;32m    271\u001b[0m                 \u001b[38;5;28;01mfor\u001b[39;00m filename \u001b[38;5;129;01min\u001b[39;00m filenames]\n\u001b[1;32m    272\u001b[0m \u001b[38;5;28mself\u001b[39m\u001b[38;5;241m.\u001b[39mfilenames \u001b[38;5;241m=\u001b[39m np\u001b[38;5;241m.\u001b[39marray([fn[\u001b[38;5;241m0\u001b[39m] \u001b[38;5;28;01mif\u001b[39;00m \u001b[38;5;28misinstance\u001b[39m(fn, \u001b[38;5;28mtuple\u001b[39m) \u001b[38;5;28;01melse\u001b[39;00m fn\n\u001b[1;32m    273\u001b[0m                                                 \u001b[38;5;28;01mfor\u001b[39;00m fn \u001b[38;5;129;01min\u001b[39;00m filenames])\n\u001b[1;32m    274\u001b[0m \u001b[38;5;66;03m# pointer to \"active\" trajectory index into self.readers\u001b[39;00m\n",
      "File \u001b[0;32m~/miniforge3/envs/docking/lib/python3.10/site-packages/MDAnalysis/coordinates/chain.py:270\u001b[0m, in \u001b[0;36m<listcomp>\u001b[0;34m(.0)\u001b[0m\n\u001b[1;32m    268\u001b[0m \u001b[38;5;28;01mif\u001b[39;00m dt \u001b[38;5;129;01mis\u001b[39;00m \u001b[38;5;129;01mnot\u001b[39;00m \u001b[38;5;28;01mNone\u001b[39;00m:\n\u001b[1;32m    269\u001b[0m     kwargs[\u001b[38;5;124m'\u001b[39m\u001b[38;5;124mdt\u001b[39m\u001b[38;5;124m'\u001b[39m] \u001b[38;5;241m=\u001b[39m dt\n\u001b[0;32m--> 270\u001b[0m \u001b[38;5;28mself\u001b[39m\u001b[38;5;241m.\u001b[39mreaders \u001b[38;5;241m=\u001b[39m [\u001b[43mcore\u001b[49m\u001b[38;5;241;43m.\u001b[39;49m\u001b[43mreader\u001b[49m\u001b[43m(\u001b[49m\u001b[43mfilename\u001b[49m\u001b[43m,\u001b[49m\u001b[43m \u001b[49m\u001b[43mconvert_units\u001b[49m\u001b[38;5;241;43m=\u001b[39;49m\u001b[43mconvert_units\u001b[49m\u001b[43m,\u001b[49m\u001b[43m \u001b[49m\u001b[38;5;241;43m*\u001b[39;49m\u001b[38;5;241;43m*\u001b[39;49m\u001b[43mkwargs\u001b[49m\u001b[43m)\u001b[49m\n\u001b[1;32m    271\u001b[0m                 \u001b[38;5;28;01mfor\u001b[39;00m filename \u001b[38;5;129;01min\u001b[39;00m filenames]\n\u001b[1;32m    272\u001b[0m \u001b[38;5;28mself\u001b[39m\u001b[38;5;241m.\u001b[39mfilenames \u001b[38;5;241m=\u001b[39m np\u001b[38;5;241m.\u001b[39marray([fn[\u001b[38;5;241m0\u001b[39m] \u001b[38;5;28;01mif\u001b[39;00m \u001b[38;5;28misinstance\u001b[39m(fn, \u001b[38;5;28mtuple\u001b[39m) \u001b[38;5;28;01melse\u001b[39;00m fn\n\u001b[1;32m    273\u001b[0m                                                 \u001b[38;5;28;01mfor\u001b[39;00m fn \u001b[38;5;129;01min\u001b[39;00m filenames])\n\u001b[1;32m    274\u001b[0m \u001b[38;5;66;03m# pointer to \"active\" trajectory index into self.readers\u001b[39;00m\n",
      "File \u001b[0;32m~/miniforge3/envs/docking/lib/python3.10/site-packages/MDAnalysis/coordinates/core.py:82\u001b[0m, in \u001b[0;36mreader\u001b[0;34m(filename, format, **kwargs)\u001b[0m\n\u001b[1;32m     80\u001b[0m     Reader \u001b[38;5;241m=\u001b[39m get_reader_for(filename, \u001b[38;5;28mformat\u001b[39m\u001b[38;5;241m=\u001b[39m\u001b[38;5;28mformat\u001b[39m)\n\u001b[1;32m     81\u001b[0m \u001b[38;5;28;01mtry\u001b[39;00m:\n\u001b[0;32m---> 82\u001b[0m     \u001b[38;5;28;01mreturn\u001b[39;00m \u001b[43mReader\u001b[49m\u001b[43m(\u001b[49m\u001b[43mfilename\u001b[49m\u001b[43m,\u001b[49m\u001b[43m \u001b[49m\u001b[38;5;241;43m*\u001b[39;49m\u001b[38;5;241;43m*\u001b[39;49m\u001b[43mkwargs\u001b[49m\u001b[43m)\u001b[49m\n\u001b[1;32m     83\u001b[0m \u001b[38;5;28;01mexcept\u001b[39;00m \u001b[38;5;167;01mValueError\u001b[39;00m:\n\u001b[1;32m     84\u001b[0m     errmsg \u001b[38;5;241m=\u001b[39m \u001b[38;5;124mf\u001b[39m\u001b[38;5;124m'\u001b[39m\u001b[38;5;124mUnable to read \u001b[39m\u001b[38;5;132;01m{\u001b[39;00mfilename\u001b[38;5;132;01m}\u001b[39;00m\u001b[38;5;124m with \u001b[39m\u001b[38;5;132;01m{\u001b[39;00mReader\u001b[38;5;132;01m}\u001b[39;00m\u001b[38;5;124m.\u001b[39m\u001b[38;5;124m'\u001b[39m\n",
      "File \u001b[0;32m~/miniforge3/envs/docking/lib/python3.10/site-packages/MDAnalysis/lib/util.py:2553\u001b[0m, in \u001b[0;36mstore_init_arguments.<locals>.wrapper\u001b[0;34m(self, *args, **kwargs)\u001b[0m\n\u001b[1;32m   2551\u001b[0m             \u001b[38;5;28;01melse\u001b[39;00m:\n\u001b[1;32m   2552\u001b[0m                 \u001b[38;5;28mself\u001b[39m\u001b[38;5;241m.\u001b[39m_kwargs[key] \u001b[38;5;241m=\u001b[39m arg\n\u001b[0;32m-> 2553\u001b[0m \u001b[38;5;28;01mreturn\u001b[39;00m \u001b[43mfunc\u001b[49m\u001b[43m(\u001b[49m\u001b[38;5;28;43mself\u001b[39;49m\u001b[43m,\u001b[49m\u001b[43m \u001b[49m\u001b[38;5;241;43m*\u001b[39;49m\u001b[43margs\u001b[49m\u001b[43m,\u001b[49m\u001b[43m \u001b[49m\u001b[38;5;241;43m*\u001b[39;49m\u001b[38;5;241;43m*\u001b[39;49m\u001b[43mkwargs\u001b[49m\u001b[43m)\u001b[49m\n",
      "File \u001b[0;32m~/miniforge3/envs/docking/lib/python3.10/site-packages/MDAnalysis/coordinates/PDB.py:349\u001b[0m, in \u001b[0;36mPDBReader.__init__\u001b[0;34m(self, filename, **kwargs)\u001b[0m\n\u001b[1;32m    346\u001b[0m \u001b[38;5;28mself\u001b[39m\u001b[38;5;241m.\u001b[39m_stop_offsets \u001b[38;5;241m=\u001b[39m offsets[\u001b[38;5;241m1\u001b[39m:] \u001b[38;5;241m+\u001b[39m [end]\n\u001b[1;32m    347\u001b[0m \u001b[38;5;28mself\u001b[39m\u001b[38;5;241m.\u001b[39mn_frames \u001b[38;5;241m=\u001b[39m \u001b[38;5;28mlen\u001b[39m(offsets)\n\u001b[0;32m--> 349\u001b[0m \u001b[38;5;28;43mself\u001b[39;49m\u001b[38;5;241;43m.\u001b[39;49m\u001b[43m_read_frame\u001b[49m\u001b[43m(\u001b[49m\u001b[38;5;241;43m0\u001b[39;49m\u001b[43m)\u001b[49m\n",
      "File \u001b[0;32m~/miniforge3/envs/docking/lib/python3.10/site-packages/MDAnalysis/coordinates/PDB.py:428\u001b[0m, in \u001b[0;36mPDBReader._read_frame\u001b[0;34m(self, frame)\u001b[0m\n\u001b[1;32m    425\u001b[0m tmp_buf\u001b[38;5;241m.\u001b[39mappend([line[\u001b[38;5;241m30\u001b[39m:\u001b[38;5;241m38\u001b[39m], line[\u001b[38;5;241m38\u001b[39m:\u001b[38;5;241m46\u001b[39m], line[\u001b[38;5;241m46\u001b[39m:\u001b[38;5;241m54\u001b[39m]])\n\u001b[1;32m    426\u001b[0m \u001b[38;5;28;01mtry\u001b[39;00m:\n\u001b[1;32m    427\u001b[0m     \u001b[38;5;66;03m# does an implicit str -> float conversion\u001b[39;00m\n\u001b[0;32m--> 428\u001b[0m     \u001b[43moccupancy\u001b[49m\u001b[43m[\u001b[49m\u001b[43mpos\u001b[49m\u001b[43m]\u001b[49m \u001b[38;5;241m=\u001b[39m line[\u001b[38;5;241m54\u001b[39m:\u001b[38;5;241m60\u001b[39m]\n\u001b[1;32m    429\u001b[0m \u001b[38;5;28;01mexcept\u001b[39;00m \u001b[38;5;167;01mValueError\u001b[39;00m:\n\u001b[1;32m    430\u001b[0m     \u001b[38;5;66;03m# Be tolerant for ill-formated or empty occupancies\u001b[39;00m\n\u001b[1;32m    431\u001b[0m     \u001b[38;5;28;01mpass\u001b[39;00m\n",
      "\u001b[0;31mIndexError\u001b[0m: index 636 is out of bounds for axis 0 with size 636"
     ]
    }
   ],
   "source": [
    "clustering.hierarchical(my_data.df)"
   ]
  },
  {
   "cell_type": "code",
   "execution_count": 84,
   "id": "f2f0380b-6fcb-4258-842e-97a18bc1431e",
   "metadata": {},
   "outputs": [
    {
     "data": {
      "text/html": [
       "<div>\n",
       "<style scoped>\n",
       "    .dataframe tbody tr th:only-of-type {\n",
       "        vertical-align: middle;\n",
       "    }\n",
       "\n",
       "    .dataframe tbody tr th {\n",
       "        vertical-align: top;\n",
       "    }\n",
       "\n",
       "    .dataframe thead th {\n",
       "        text-align: right;\n",
       "    }\n",
       "</style>\n",
       "<table border=\"1\" class=\"dataframe\">\n",
       "  <thead>\n",
       "    <tr style=\"text-align: right;\">\n",
       "      <th></th>\n",
       "      <th>query</th>\n",
       "      <th>seed</th>\n",
       "      <th>model</th>\n",
       "      <th>weight</th>\n",
       "      <th>recycle</th>\n",
       "      <th>pLDDT</th>\n",
       "      <th>pTM</th>\n",
       "      <th>ipTM</th>\n",
       "      <th>ranking_confidence</th>\n",
       "      <th>pdb</th>\n",
       "      <th>...</th>\n",
       "      <th>PAE_C_B</th>\n",
       "      <th>PAE_C_C</th>\n",
       "      <th>PAE_pep_rec</th>\n",
       "      <th>PAE_rec_pep</th>\n",
       "      <th>pdockq2_lig</th>\n",
       "      <th>LIS</th>\n",
       "      <th>LIS_rec_pep</th>\n",
       "      <th>LIS_pep_rec</th>\n",
       "      <th>plddt_pep</th>\n",
       "      <th>cluster</th>\n",
       "    </tr>\n",
       "  </thead>\n",
       "  <tbody>\n",
       "    <tr>\n",
       "      <th>175</th>\n",
       "      <td>7O6N</td>\n",
       "      <td>0</td>\n",
       "      <td>1</td>\n",
       "      <td>alphafold2_multimer_v3</td>\n",
       "      <td>3</td>\n",
       "      <td>67.9</td>\n",
       "      <td>0.669</td>\n",
       "      <td>0.217</td>\n",
       "      <td>0.3074</td>\n",
       "      <td>/home/sdv/m1isdd/areguei/Bureau/reguei/42_bret...</td>\n",
       "      <td>...</td>\n",
       "      <td>NaN</td>\n",
       "      <td>NaN</td>\n",
       "      <td>21.777284</td>\n",
       "      <td>16.385176</td>\n",
       "      <td>0.011479</td>\n",
       "      <td>[[0.7399053336204731, 0.19127909767218623], [0...</td>\n",
       "      <td>0.085700</td>\n",
       "      <td>0.191279</td>\n",
       "      <td>33.109744</td>\n",
       "      <td>12</td>\n",
       "    </tr>\n",
       "    <tr>\n",
       "      <th>176</th>\n",
       "      <td>7O6N</td>\n",
       "      <td>0</td>\n",
       "      <td>2</td>\n",
       "      <td>alphafold2_multimer_v3</td>\n",
       "      <td>3</td>\n",
       "      <td>68.2</td>\n",
       "      <td>0.654</td>\n",
       "      <td>0.191</td>\n",
       "      <td>0.2836</td>\n",
       "      <td>/home/sdv/m1isdd/areguei/Bureau/reguei/42_bret...</td>\n",
       "      <td>...</td>\n",
       "      <td>NaN</td>\n",
       "      <td>NaN</td>\n",
       "      <td>22.308165</td>\n",
       "      <td>17.608967</td>\n",
       "      <td>0.010211</td>\n",
       "      <td>[[0.7355853433289874, 0.23133113069016153], [0...</td>\n",
       "      <td>0.100023</td>\n",
       "      <td>0.231331</td>\n",
       "      <td>35.276667</td>\n",
       "      <td>7</td>\n",
       "    </tr>\n",
       "    <tr>\n",
       "      <th>177</th>\n",
       "      <td>7O6N</td>\n",
       "      <td>0</td>\n",
       "      <td>3</td>\n",
       "      <td>alphafold2_multimer_v3</td>\n",
       "      <td>3</td>\n",
       "      <td>67.8</td>\n",
       "      <td>0.657</td>\n",
       "      <td>0.182</td>\n",
       "      <td>0.2770</td>\n",
       "      <td>/home/sdv/m1isdd/areguei/Bureau/reguei/42_bret...</td>\n",
       "      <td>...</td>\n",
       "      <td>NaN</td>\n",
       "      <td>NaN</td>\n",
       "      <td>23.072987</td>\n",
       "      <td>17.965342</td>\n",
       "      <td>0.012288</td>\n",
       "      <td>[[0.7442368098380756, 0.22738251879699248], [0...</td>\n",
       "      <td>0.098805</td>\n",
       "      <td>0.227383</td>\n",
       "      <td>33.292821</td>\n",
       "      <td>3</td>\n",
       "    </tr>\n",
       "    <tr>\n",
       "      <th>178</th>\n",
       "      <td>7O6N</td>\n",
       "      <td>0</td>\n",
       "      <td>4</td>\n",
       "      <td>alphafold2_multimer_v3</td>\n",
       "      <td>3</td>\n",
       "      <td>68.3</td>\n",
       "      <td>0.652</td>\n",
       "      <td>0.176</td>\n",
       "      <td>0.2712</td>\n",
       "      <td>/home/sdv/m1isdd/areguei/Bureau/reguei/42_bret...</td>\n",
       "      <td>...</td>\n",
       "      <td>NaN</td>\n",
       "      <td>NaN</td>\n",
       "      <td>22.946657</td>\n",
       "      <td>18.130899</td>\n",
       "      <td>0.009420</td>\n",
       "      <td>[[0.7429343412757774, 0.16144277108433736], [0...</td>\n",
       "      <td>0.071179</td>\n",
       "      <td>0.161443</td>\n",
       "      <td>34.835128</td>\n",
       "      <td>7</td>\n",
       "    </tr>\n",
       "    <tr>\n",
       "      <th>179</th>\n",
       "      <td>7O6N</td>\n",
       "      <td>0</td>\n",
       "      <td>5</td>\n",
       "      <td>alphafold2_multimer_v3</td>\n",
       "      <td>3</td>\n",
       "      <td>65.9</td>\n",
       "      <td>0.647</td>\n",
       "      <td>0.161</td>\n",
       "      <td>0.2582</td>\n",
       "      <td>/home/sdv/m1isdd/areguei/Bureau/reguei/42_bret...</td>\n",
       "      <td>...</td>\n",
       "      <td>NaN</td>\n",
       "      <td>NaN</td>\n",
       "      <td>23.890301</td>\n",
       "      <td>18.327476</td>\n",
       "      <td>0.008786</td>\n",
       "      <td>[[0.737623125564589, 0.17724919093851133], [0....</td>\n",
       "      <td>0.071105</td>\n",
       "      <td>0.177249</td>\n",
       "      <td>30.011538</td>\n",
       "      <td>4</td>\n",
       "    </tr>\n",
       "  </tbody>\n",
       "</table>\n",
       "<p>5 rows × 32 columns</p>\n",
       "</div>"
      ],
      "text/plain": [
       "    query  seed  model                  weight  recycle  pLDDT    pTM   ipTM  \\\n",
       "175  7O6N     0      1  alphafold2_multimer_v3        3   67.9  0.669  0.217   \n",
       "176  7O6N     0      2  alphafold2_multimer_v3        3   68.2  0.654  0.191   \n",
       "177  7O6N     0      3  alphafold2_multimer_v3        3   67.8  0.657  0.182   \n",
       "178  7O6N     0      4  alphafold2_multimer_v3        3   68.3  0.652  0.176   \n",
       "179  7O6N     0      5  alphafold2_multimer_v3        3   65.9  0.647  0.161   \n",
       "\n",
       "     ranking_confidence                                                pdb  \\\n",
       "175              0.3074  /home/sdv/m1isdd/areguei/Bureau/reguei/42_bret...   \n",
       "176              0.2836  /home/sdv/m1isdd/areguei/Bureau/reguei/42_bret...   \n",
       "177              0.2770  /home/sdv/m1isdd/areguei/Bureau/reguei/42_bret...   \n",
       "178              0.2712  /home/sdv/m1isdd/areguei/Bureau/reguei/42_bret...   \n",
       "179              0.2582  /home/sdv/m1isdd/areguei/Bureau/reguei/42_bret...   \n",
       "\n",
       "     ... PAE_C_B  PAE_C_C  PAE_pep_rec  PAE_rec_pep  pdockq2_lig  \\\n",
       "175  ...     NaN      NaN    21.777284    16.385176     0.011479   \n",
       "176  ...     NaN      NaN    22.308165    17.608967     0.010211   \n",
       "177  ...     NaN      NaN    23.072987    17.965342     0.012288   \n",
       "178  ...     NaN      NaN    22.946657    18.130899     0.009420   \n",
       "179  ...     NaN      NaN    23.890301    18.327476     0.008786   \n",
       "\n",
       "                                                   LIS  LIS_rec_pep  \\\n",
       "175  [[0.7399053336204731, 0.19127909767218623], [0...     0.085700   \n",
       "176  [[0.7355853433289874, 0.23133113069016153], [0...     0.100023   \n",
       "177  [[0.7442368098380756, 0.22738251879699248], [0...     0.098805   \n",
       "178  [[0.7429343412757774, 0.16144277108433736], [0...     0.071179   \n",
       "179  [[0.737623125564589, 0.17724919093851133], [0....     0.071105   \n",
       "\n",
       "     LIS_pep_rec  plddt_pep  cluster  \n",
       "175     0.191279  33.109744       12  \n",
       "176     0.231331  35.276667        7  \n",
       "177     0.227383  33.292821        3  \n",
       "178     0.161443  34.835128        7  \n",
       "179     0.177249  30.011538        4  \n",
       "\n",
       "[5 rows x 32 columns]"
      ]
     },
     "execution_count": 84,
     "metadata": {},
     "output_type": "execute_result"
    }
   ],
   "source": [
    "# Updated Dataframe\n",
    "sub_df.head()"
   ]
  },
  {
   "cell_type": "markdown",
   "id": "25b2acb3-e6da-4167-ad42-50560aa04a8e",
   "metadata": {},
   "source": [
    "## Principal component analysis"
   ]
  },
  {
   "cell_type": "code",
   "execution_count": 24,
   "id": "f09e4848-6e28-4e16-a9df-ad19b7dc834d",
   "metadata": {},
   "outputs": [
    {
     "ename": "UnboundLocalError",
     "evalue": "local variable 'null_number' referenced before assignment",
     "output_type": "error",
     "traceback": [
      "\u001b[0;31m---------------------------------------------------------------------------\u001b[0m",
      "\u001b[0;31mUnboundLocalError\u001b[0m                         Traceback (most recent call last)",
      "Cell \u001b[0;32mIn[24], line 2\u001b[0m\n\u001b[1;32m      1\u001b[0m \u001b[38;5;66;03m# # Example : 7O6N strucutres\u001b[39;00m\n\u001b[0;32m----> 2\u001b[0m \u001b[43mclustering\u001b[49m\u001b[38;5;241;43m.\u001b[39;49m\u001b[43mcompute_pc\u001b[49m\u001b[43m(\u001b[49m\u001b[43msub_df\u001b[49m\u001b[43m)\u001b[49m\n\u001b[1;32m      3\u001b[0m clustering\u001b[38;5;241m.\u001b[39mplot_pc(sub_df)\n",
      "File \u001b[0;32m~/miniforge3/envs/docking/lib/python3.10/site-packages/af2_analysis/clustering.py:429\u001b[0m, in \u001b[0;36mcompute_pc\u001b[0;34m(df, n_components)\u001b[0m\n\u001b[1;32m    426\u001b[0m         pc_list[i]\u001b[38;5;241m.\u001b[39mextend(transformed[:,i]\u001b[38;5;241m.\u001b[39mtolist())\n\u001b[1;32m    428\u001b[0m \u001b[38;5;28;01mfor\u001b[39;00m i \u001b[38;5;129;01min\u001b[39;00m \u001b[38;5;28mrange\u001b[39m(n_components):\n\u001b[0;32m--> 429\u001b[0m     df[\u001b[38;5;124mf\u001b[39m\u001b[38;5;124m\"\u001b[39m\u001b[38;5;124mPC\u001b[39m\u001b[38;5;132;01m{\u001b[39;00mi\u001b[38;5;241m+\u001b[39m\u001b[38;5;241m1\u001b[39m\u001b[38;5;132;01m}\u001b[39;00m\u001b[38;5;124m\"\u001b[39m] \u001b[38;5;241m=\u001b[39m pc_list[i] \u001b[38;5;241m+\u001b[39m \u001b[43mnull_number\u001b[49m \u001b[38;5;241m*\u001b[39m [np\u001b[38;5;241m.\u001b[39mnan]\n",
      "\u001b[0;31mUnboundLocalError\u001b[0m: local variable 'null_number' referenced before assignment"
     ]
    }
   ],
   "source": [
    "# # Example : 7O6N strucutres\n",
    "clustering.compute_pc(sub_df)\n",
    "clustering.plot_pc(sub_df)"
   ]
  },
  {
   "cell_type": "code",
   "execution_count": null,
   "id": "db2092c0",
   "metadata": {},
   "outputs": [],
   "source": []
  }
 ],
 "metadata": {
  "kernelspec": {
   "display_name": "Python 3 (ipykernel)",
   "language": "python",
   "name": "python3"
  },
  "language_info": {
   "codemirror_mode": {
    "name": "ipython",
    "version": 3
   },
   "file_extension": ".py",
   "mimetype": "text/x-python",
   "name": "python",
   "nbconvert_exporter": "python",
   "pygments_lexer": "ipython3",
   "version": "3.10.13"
  }
 },
 "nbformat": 4,
 "nbformat_minor": 5
}
