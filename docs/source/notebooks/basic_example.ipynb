{
 "cells": [
  {
   "cell_type": "markdown",
   "id": "b74076d1-4492-47f2-82ed-048ac5ba6bda",
   "metadata": {},
   "source": [
    "# Basic Example\n",
    "\n",
    "## Importing packages"
   ]
  },
  {
   "cell_type": "code",
   "execution_count": 86,
   "id": "28581650-315a-453e-858e-37e36846c74f",
   "metadata": {},
   "outputs": [],
   "source": [
    "import af2_analysis\n",
    "from af2_analysis import clustering\n",
    "from af2_analysis import peptide\n",
    "import nglview\n",
    "%matplotlib inline"
   ]
  },
  {
   "cell_type": "markdown",
   "id": "21cf6f92-76f2-436c-838b-fb44fbdf6241",
   "metadata": {},
   "source": [
    "## Importing Alpahfold Data "
   ]
  },
  {
   "cell_type": "code",
   "execution_count": 2,
   "id": "6a279354-9766-41da-8722-b34ad88eb27c",
   "metadata": {},
   "outputs": [
    {
     "data": {
      "application/vnd.jupyter.widget-view+json": {
       "model_id": "a324d19aa6644d36a257d7f44aac6fcd",
       "version_major": 2,
       "version_minor": 0
      },
      "text/plain": [
       "  0%|          | 0/1050 [00:00<?, ?it/s]"
      ]
     },
     "metadata": {},
     "output_type": "display_data"
    },
    {
     "data": {
      "application/vnd.jupyter.widget-view+json": {
       "model_id": "ed371f75ad5e4d9b86a671a0cd97800a",
       "version_major": 2,
       "version_minor": 0
      },
      "text/plain": [
       "  0%|          | 0/1050 [00:00<?, ?it/s]"
      ]
     },
     "metadata": {},
     "output_type": "display_data"
    },
    {
     "data": {
      "text/html": [
       "<div>\n",
       "<style scoped>\n",
       "    .dataframe tbody tr th:only-of-type {\n",
       "        vertical-align: middle;\n",
       "    }\n",
       "\n",
       "    .dataframe tbody tr th {\n",
       "        vertical-align: top;\n",
       "    }\n",
       "\n",
       "    .dataframe thead th {\n",
       "        text-align: right;\n",
       "    }\n",
       "</style>\n",
       "<table border=\"1\" class=\"dataframe\">\n",
       "  <thead>\n",
       "    <tr style=\"text-align: right;\">\n",
       "      <th></th>\n",
       "      <th>query</th>\n",
       "      <th>seed</th>\n",
       "      <th>model</th>\n",
       "      <th>weight</th>\n",
       "      <th>recycle</th>\n",
       "      <th>pLDDT</th>\n",
       "      <th>pTM</th>\n",
       "      <th>ipTM</th>\n",
       "      <th>ranking_confidence</th>\n",
       "      <th>pdb</th>\n",
       "      <th>json</th>\n",
       "    </tr>\n",
       "  </thead>\n",
       "  <tbody>\n",
       "    <tr>\n",
       "      <th>0</th>\n",
       "      <td>6L0V</td>\n",
       "      <td>0</td>\n",
       "      <td>1</td>\n",
       "      <td>alphafold2_multimer_v3</td>\n",
       "      <td>3</td>\n",
       "      <td>92.1</td>\n",
       "      <td>0.832</td>\n",
       "      <td>0.867</td>\n",
       "      <td>0.8600</td>\n",
       "      <td>/home/sdv/m1isdd/areguei/Bureau/reguei/42_bret...</td>\n",
       "      <td>/home/sdv/m1isdd/areguei/Bureau/reguei/42_bret...</td>\n",
       "    </tr>\n",
       "    <tr>\n",
       "      <th>1</th>\n",
       "      <td>6L0V</td>\n",
       "      <td>0</td>\n",
       "      <td>2</td>\n",
       "      <td>alphafold2_multimer_v3</td>\n",
       "      <td>3</td>\n",
       "      <td>93.0</td>\n",
       "      <td>0.839</td>\n",
       "      <td>0.892</td>\n",
       "      <td>0.8814</td>\n",
       "      <td>/home/sdv/m1isdd/areguei/Bureau/reguei/42_bret...</td>\n",
       "      <td>/home/sdv/m1isdd/areguei/Bureau/reguei/42_bret...</td>\n",
       "    </tr>\n",
       "    <tr>\n",
       "      <th>2</th>\n",
       "      <td>6L0V</td>\n",
       "      <td>0</td>\n",
       "      <td>3</td>\n",
       "      <td>alphafold2_multimer_v3</td>\n",
       "      <td>3</td>\n",
       "      <td>93.2</td>\n",
       "      <td>0.840</td>\n",
       "      <td>0.893</td>\n",
       "      <td>0.8824</td>\n",
       "      <td>/home/sdv/m1isdd/areguei/Bureau/reguei/42_bret...</td>\n",
       "      <td>/home/sdv/m1isdd/areguei/Bureau/reguei/42_bret...</td>\n",
       "    </tr>\n",
       "    <tr>\n",
       "      <th>3</th>\n",
       "      <td>6L0V</td>\n",
       "      <td>0</td>\n",
       "      <td>4</td>\n",
       "      <td>alphafold2_multimer_v3</td>\n",
       "      <td>3</td>\n",
       "      <td>93.8</td>\n",
       "      <td>0.848</td>\n",
       "      <td>0.884</td>\n",
       "      <td>0.8768</td>\n",
       "      <td>/home/sdv/m1isdd/areguei/Bureau/reguei/42_bret...</td>\n",
       "      <td>/home/sdv/m1isdd/areguei/Bureau/reguei/42_bret...</td>\n",
       "    </tr>\n",
       "    <tr>\n",
       "      <th>4</th>\n",
       "      <td>6L0V</td>\n",
       "      <td>0</td>\n",
       "      <td>5</td>\n",
       "      <td>alphafold2_multimer_v3</td>\n",
       "      <td>3</td>\n",
       "      <td>93.2</td>\n",
       "      <td>0.843</td>\n",
       "      <td>0.894</td>\n",
       "      <td>0.8838</td>\n",
       "      <td>/home/sdv/m1isdd/areguei/Bureau/reguei/42_bret...</td>\n",
       "      <td>/home/sdv/m1isdd/areguei/Bureau/reguei/42_bret...</td>\n",
       "    </tr>\n",
       "  </tbody>\n",
       "</table>\n",
       "</div>"
      ],
      "text/plain": [
       "  query  seed  model                  weight  recycle  pLDDT    pTM   ipTM  \\\n",
       "0  6L0V     0      1  alphafold2_multimer_v3        3   92.1  0.832  0.867   \n",
       "1  6L0V     0      2  alphafold2_multimer_v3        3   93.0  0.839  0.892   \n",
       "2  6L0V     0      3  alphafold2_multimer_v3        3   93.2  0.840  0.893   \n",
       "3  6L0V     0      4  alphafold2_multimer_v3        3   93.8  0.848  0.884   \n",
       "4  6L0V     0      5  alphafold2_multimer_v3        3   93.2  0.843  0.894   \n",
       "\n",
       "   ranking_confidence                                                pdb  \\\n",
       "0              0.8600  /home/sdv/m1isdd/areguei/Bureau/reguei/42_bret...   \n",
       "1              0.8814  /home/sdv/m1isdd/areguei/Bureau/reguei/42_bret...   \n",
       "2              0.8824  /home/sdv/m1isdd/areguei/Bureau/reguei/42_bret...   \n",
       "3              0.8768  /home/sdv/m1isdd/areguei/Bureau/reguei/42_bret...   \n",
       "4              0.8838  /home/sdv/m1isdd/areguei/Bureau/reguei/42_bret...   \n",
       "\n",
       "                                                json  \n",
       "0  /home/sdv/m1isdd/areguei/Bureau/reguei/42_bret...  \n",
       "1  /home/sdv/m1isdd/areguei/Bureau/reguei/42_bret...  \n",
       "2  /home/sdv/m1isdd/areguei/Bureau/reguei/42_bret...  \n",
       "3  /home/sdv/m1isdd/areguei/Bureau/reguei/42_bret...  \n",
       "4  /home/sdv/m1isdd/areguei/Bureau/reguei/42_bret...  "
      ]
     },
     "execution_count": 2,
     "metadata": {},
     "output_type": "execute_result"
    }
   ],
   "source": [
    "DATA_PATH = '/home/sdv/m1isdd/areguei/Bureau/reguei/42_bret_new/3_no_drop/'\n",
    "my_data = af2_analysis.Data(DATA_PATH)\n",
    "my_data.df.head()"
   ]
  },
  {
   "cell_type": "markdown",
   "id": "d965dea2-ca35-4a16-b14d-cba0cf041c96",
   "metadata": {},
   "source": [
    "## show 3D structure"
   ]
  },
  {
   "cell_type": "code",
   "execution_count": 50,
   "id": "846289e8-1630-450d-ac55-8f4663cc1bed",
   "metadata": {},
   "outputs": [
    {
     "data": {
      "application/vnd.jupyter.widget-view+json": {
       "model_id": "4b4ecd5fbea840d284d2596b7046668d",
       "version_major": 2,
       "version_minor": 0
      },
      "text/plain": [
       "NGLWidget()"
      ]
     },
     "metadata": {},
     "output_type": "display_data"
    }
   ],
   "source": [
    "view = my_data.show_3d(0)\n",
    "view"
   ]
  },
  {
   "cell_type": "markdown",
   "id": "a6c508b0-9a5e-4413-a4e7-fcde6816cb81",
   "metadata": {},
   "source": [
    "## Computing scores\n"
   ]
  },
  {
   "cell_type": "code",
   "execution_count": 3,
   "id": "14765052-27c2-4d1a-ad3d-9fe57a9c5b25",
   "metadata": {},
   "outputs": [
    {
     "data": {
      "application/vnd.jupyter.widget-view+json": {
       "model_id": "bc893c1d302c4e6d91b9368bd8fda63d",
       "version_major": 2,
       "version_minor": 0
      },
      "text/plain": [
       "  0%|          | 0/1050 [00:00<?, ?it/s]"
      ]
     },
     "metadata": {},
     "output_type": "display_data"
    },
    {
     "data": {
      "application/vnd.jupyter.widget-view+json": {
       "model_id": "f1c16fdf223549b297ede27af6f2973b",
       "version_major": 2,
       "version_minor": 0
      },
      "text/plain": [
       "  0%|          | 0/1050 [00:00<?, ?it/s]"
      ]
     },
     "metadata": {},
     "output_type": "display_data"
    }
   ],
   "source": [
    "#compute_pdockq\n",
    "my_data.compute_pdockq()\n",
    "#compute_pdockq2\n",
    "my_data.compute_pdockq2()"
   ]
  },
  {
   "cell_type": "code",
   "execution_count": 79,
   "id": "6bed4d3c-1a44-483e-840f-5cc31b18b5b5",
   "metadata": {},
   "outputs": [
    {
     "data": {
      "application/vnd.jupyter.widget-view+json": {
       "model_id": "0360d6836b5e4db289a484bd8503b991",
       "version_major": 2,
       "version_minor": 0
      },
      "text/plain": [
       "  0%|          | 0/1050 [00:00<?, ?it/s]"
      ]
     },
     "metadata": {},
     "output_type": "display_data"
    },
    {
     "data": {
      "application/vnd.jupyter.widget-view+json": {
       "model_id": "6ebf08e6013a444aa210b989ccaffa62",
       "version_major": 2,
       "version_minor": 0
      },
      "text/plain": [
       "  0%|          | 0/1050 [00:00<?, ?it/s]"
      ]
     },
     "metadata": {},
     "output_type": "display_data"
    },
    {
     "data": {
      "application/vnd.jupyter.widget-view+json": {
       "model_id": "fb13ebeab93c4915bfee56308e669d93",
       "version_major": 2,
       "version_minor": 0
      },
      "text/plain": [
       "  0%|          | 0/1050 [00:00<?, ?it/s]"
      ]
     },
     "metadata": {},
     "output_type": "display_data"
    },
    {
     "data": {
      "application/vnd.jupyter.widget-view+json": {
       "model_id": "5498c653ca1f40cd91f93f94db9a193f",
       "version_major": 2,
       "version_minor": 0
      },
      "text/plain": [
       "  0%|          | 0/1050 [00:00<?, ?it/s]"
      ]
     },
     "metadata": {},
     "output_type": "display_data"
    },
    {
     "data": {
      "application/vnd.jupyter.widget-view+json": {
       "model_id": "2a86898f09e54d7086a170cbd2521d2b",
       "version_major": 2,
       "version_minor": 0
      },
      "text/plain": [
       "  0%|          | 0/1050 [00:00<?, ?it/s]"
      ]
     },
     "metadata": {},
     "output_type": "display_data"
    }
   ],
   "source": [
    "#extract_pae_pep\n",
    "peptide.extract_pae_pep(my_data)\n",
    "#compute_pdockq2_lig\n",
    "peptide.compute_pdockq2_lig(my_data)\n",
    "#compute_LIS_pep\n",
    "peptide.compute_LIS_pep(my_data)\n",
    "#extract_plddt_pep\n",
    "peptide.extract_plddt_pep(my_data)\n"
   ]
  },
  {
   "cell_type": "code",
   "execution_count": 81,
   "id": "ca29d6d0-1a00-4bed-9c5a-1ac5d81137de",
   "metadata": {},
   "outputs": [
    {
     "data": {
      "text/html": [
       "<div>\n",
       "<style scoped>\n",
       "    .dataframe tbody tr th:only-of-type {\n",
       "        vertical-align: middle;\n",
       "    }\n",
       "\n",
       "    .dataframe tbody tr th {\n",
       "        vertical-align: top;\n",
       "    }\n",
       "\n",
       "    .dataframe thead th {\n",
       "        text-align: right;\n",
       "    }\n",
       "</style>\n",
       "<table border=\"1\" class=\"dataframe\">\n",
       "  <thead>\n",
       "    <tr style=\"text-align: right;\">\n",
       "      <th></th>\n",
       "      <th>query</th>\n",
       "      <th>seed</th>\n",
       "      <th>model</th>\n",
       "      <th>weight</th>\n",
       "      <th>recycle</th>\n",
       "      <th>pLDDT</th>\n",
       "      <th>pTM</th>\n",
       "      <th>ipTM</th>\n",
       "      <th>ranking_confidence</th>\n",
       "      <th>pdb</th>\n",
       "      <th>...</th>\n",
       "      <th>PAE_C_A</th>\n",
       "      <th>PAE_C_B</th>\n",
       "      <th>PAE_C_C</th>\n",
       "      <th>PAE_pep_rec</th>\n",
       "      <th>PAE_rec_pep</th>\n",
       "      <th>pdockq2_lig</th>\n",
       "      <th>LIS</th>\n",
       "      <th>LIS_rec_pep</th>\n",
       "      <th>LIS_pep_rec</th>\n",
       "      <th>plddt_pep</th>\n",
       "    </tr>\n",
       "  </thead>\n",
       "  <tbody>\n",
       "    <tr>\n",
       "      <th>0</th>\n",
       "      <td>6L0V</td>\n",
       "      <td>0</td>\n",
       "      <td>1</td>\n",
       "      <td>alphafold2_multimer_v3</td>\n",
       "      <td>3</td>\n",
       "      <td>92.1</td>\n",
       "      <td>0.832</td>\n",
       "      <td>0.867</td>\n",
       "      <td>0.8600</td>\n",
       "      <td>/home/sdv/m1isdd/areguei/Bureau/reguei/42_bret...</td>\n",
       "      <td>...</td>\n",
       "      <td>NaN</td>\n",
       "      <td>NaN</td>\n",
       "      <td>NaN</td>\n",
       "      <td>4.281260</td>\n",
       "      <td>4.340377</td>\n",
       "      <td>0.922155</td>\n",
       "      <td>[[0.7703025606469003, 0.7617510084341769], [0....</td>\n",
       "      <td>0.666650</td>\n",
       "      <td>0.761751</td>\n",
       "      <td>93.464375</td>\n",
       "    </tr>\n",
       "    <tr>\n",
       "      <th>1</th>\n",
       "      <td>6L0V</td>\n",
       "      <td>0</td>\n",
       "      <td>2</td>\n",
       "      <td>alphafold2_multimer_v3</td>\n",
       "      <td>3</td>\n",
       "      <td>93.0</td>\n",
       "      <td>0.839</td>\n",
       "      <td>0.892</td>\n",
       "      <td>0.8814</td>\n",
       "      <td>/home/sdv/m1isdd/areguei/Bureau/reguei/42_bret...</td>\n",
       "      <td>...</td>\n",
       "      <td>NaN</td>\n",
       "      <td>NaN</td>\n",
       "      <td>NaN</td>\n",
       "      <td>3.228671</td>\n",
       "      <td>4.102679</td>\n",
       "      <td>0.935007</td>\n",
       "      <td>[[0.7779136449100189, 0.7789695144213217], [0....</td>\n",
       "      <td>0.744340</td>\n",
       "      <td>0.778970</td>\n",
       "      <td>96.459375</td>\n",
       "    </tr>\n",
       "    <tr>\n",
       "      <th>2</th>\n",
       "      <td>6L0V</td>\n",
       "      <td>0</td>\n",
       "      <td>3</td>\n",
       "      <td>alphafold2_multimer_v3</td>\n",
       "      <td>3</td>\n",
       "      <td>93.2</td>\n",
       "      <td>0.840</td>\n",
       "      <td>0.893</td>\n",
       "      <td>0.8824</td>\n",
       "      <td>/home/sdv/m1isdd/areguei/Bureau/reguei/42_bret...</td>\n",
       "      <td>...</td>\n",
       "      <td>NaN</td>\n",
       "      <td>NaN</td>\n",
       "      <td>NaN</td>\n",
       "      <td>3.129573</td>\n",
       "      <td>4.077153</td>\n",
       "      <td>0.937803</td>\n",
       "      <td>[[0.7763982521847691, 0.7739169381107491], [0....</td>\n",
       "      <td>0.752222</td>\n",
       "      <td>0.773917</td>\n",
       "      <td>96.733750</td>\n",
       "    </tr>\n",
       "    <tr>\n",
       "      <th>3</th>\n",
       "      <td>6L0V</td>\n",
       "      <td>0</td>\n",
       "      <td>4</td>\n",
       "      <td>alphafold2_multimer_v3</td>\n",
       "      <td>3</td>\n",
       "      <td>93.8</td>\n",
       "      <td>0.848</td>\n",
       "      <td>0.884</td>\n",
       "      <td>0.8768</td>\n",
       "      <td>/home/sdv/m1isdd/areguei/Bureau/reguei/42_bret...</td>\n",
       "      <td>...</td>\n",
       "      <td>NaN</td>\n",
       "      <td>NaN</td>\n",
       "      <td>NaN</td>\n",
       "      <td>3.491567</td>\n",
       "      <td>3.831577</td>\n",
       "      <td>0.931476</td>\n",
       "      <td>[[0.7949946751863685, 0.7798514763429384], [0....</td>\n",
       "      <td>0.724205</td>\n",
       "      <td>0.779851</td>\n",
       "      <td>95.694375</td>\n",
       "    </tr>\n",
       "    <tr>\n",
       "      <th>4</th>\n",
       "      <td>6L0V</td>\n",
       "      <td>0</td>\n",
       "      <td>5</td>\n",
       "      <td>alphafold2_multimer_v3</td>\n",
       "      <td>3</td>\n",
       "      <td>93.2</td>\n",
       "      <td>0.843</td>\n",
       "      <td>0.894</td>\n",
       "      <td>0.8838</td>\n",
       "      <td>/home/sdv/m1isdd/areguei/Bureau/reguei/42_bret...</td>\n",
       "      <td>...</td>\n",
       "      <td>NaN</td>\n",
       "      <td>NaN</td>\n",
       "      <td>NaN</td>\n",
       "      <td>3.034266</td>\n",
       "      <td>3.942867</td>\n",
       "      <td>0.935894</td>\n",
       "      <td>[[0.7853714349376115, 0.7793574514038878], [0....</td>\n",
       "      <td>0.760194</td>\n",
       "      <td>0.779357</td>\n",
       "      <td>96.616875</td>\n",
       "    </tr>\n",
       "  </tbody>\n",
       "</table>\n",
       "<p>5 rows × 31 columns</p>\n",
       "</div>"
      ],
      "text/plain": [
       "  query  seed  model                  weight  recycle  pLDDT    pTM   ipTM  \\\n",
       "0  6L0V     0      1  alphafold2_multimer_v3        3   92.1  0.832  0.867   \n",
       "1  6L0V     0      2  alphafold2_multimer_v3        3   93.0  0.839  0.892   \n",
       "2  6L0V     0      3  alphafold2_multimer_v3        3   93.2  0.840  0.893   \n",
       "3  6L0V     0      4  alphafold2_multimer_v3        3   93.8  0.848  0.884   \n",
       "4  6L0V     0      5  alphafold2_multimer_v3        3   93.2  0.843  0.894   \n",
       "\n",
       "   ranking_confidence                                                pdb  ...  \\\n",
       "0              0.8600  /home/sdv/m1isdd/areguei/Bureau/reguei/42_bret...  ...   \n",
       "1              0.8814  /home/sdv/m1isdd/areguei/Bureau/reguei/42_bret...  ...   \n",
       "2              0.8824  /home/sdv/m1isdd/areguei/Bureau/reguei/42_bret...  ...   \n",
       "3              0.8768  /home/sdv/m1isdd/areguei/Bureau/reguei/42_bret...  ...   \n",
       "4              0.8838  /home/sdv/m1isdd/areguei/Bureau/reguei/42_bret...  ...   \n",
       "\n",
       "  PAE_C_A  PAE_C_B  PAE_C_C  PAE_pep_rec  PAE_rec_pep  pdockq2_lig  \\\n",
       "0     NaN      NaN      NaN     4.281260     4.340377     0.922155   \n",
       "1     NaN      NaN      NaN     3.228671     4.102679     0.935007   \n",
       "2     NaN      NaN      NaN     3.129573     4.077153     0.937803   \n",
       "3     NaN      NaN      NaN     3.491567     3.831577     0.931476   \n",
       "4     NaN      NaN      NaN     3.034266     3.942867     0.935894   \n",
       "\n",
       "                                                 LIS  LIS_rec_pep  \\\n",
       "0  [[0.7703025606469003, 0.7617510084341769], [0....     0.666650   \n",
       "1  [[0.7779136449100189, 0.7789695144213217], [0....     0.744340   \n",
       "2  [[0.7763982521847691, 0.7739169381107491], [0....     0.752222   \n",
       "3  [[0.7949946751863685, 0.7798514763429384], [0....     0.724205   \n",
       "4  [[0.7853714349376115, 0.7793574514038878], [0....     0.760194   \n",
       "\n",
       "   LIS_pep_rec  plddt_pep  \n",
       "0     0.761751  93.464375  \n",
       "1     0.778970  96.459375  \n",
       "2     0.773917  96.733750  \n",
       "3     0.779851  95.694375  \n",
       "4     0.779357  96.616875  \n",
       "\n",
       "[5 rows x 31 columns]"
      ]
     },
     "execution_count": 81,
     "metadata": {},
     "output_type": "execute_result"
    }
   ],
   "source": [
    "my_data.df.head()"
   ]
  },
  {
   "cell_type": "markdown",
   "id": "a6069552-b70f-4cbc-990a-14e2632ffad0",
   "metadata": {},
   "source": [
    "## Plots"
   ]
  },
  {
   "cell_type": "markdown",
   "id": "d22e8678-fb1d-487b-85ad-e1b4141fbcb7",
   "metadata": {},
   "source": [
    "### Plddt plot"
   ]
  },
  {
   "cell_type": "code",
   "execution_count": 6,
   "id": "79eaa30e-5606-477a-9a95-342a7dcf5b07",
   "metadata": {},
   "outputs": [
    {
     "data": {
      "text/plain": [
       "(<Figure size 640x480 with 1 Axes>,\n",
       " <Axes: xlabel='Residue', ylabel='predicted LDDT'>)"
      ]
     },
     "execution_count": 6,
     "metadata": {},
     "output_type": "execute_result"
    },
    {
     "data": {
      "image/png": "[encoded data removed]",
      "text/plain": [
       "<Figure size 640x480 with 1 Axes>"
      ]
     },
     "metadata": {},
     "output_type": "display_data"
    }
   ],
   "source": [
    "# Model 1\n",
    "my_data.plot_plddt([0])"
   ]
  },
  {
   "cell_type": "code",
   "execution_count": 7,
   "id": "8ff76f34-6a95-4ecf-ba34-b25560886681",
   "metadata": {},
   "outputs": [
    {
     "data": {
      "text/plain": [
       "(<Figure size 640x480 with 1 Axes>,\n",
       " <Axes: xlabel='Residue', ylabel='predicted LDDT'>)"
      ]
     },
     "execution_count": 7,
     "metadata": {},
     "output_type": "execute_result"
    },
    {
     "data": {
      "image/png": "[encoded data removed]",
      "text/plain": [
       "<Figure size 640x480 with 1 Axes>"
      ]
     },
     "metadata": {},
     "output_type": "display_data"
    }
   ],
   "source": [
    "# Model 1 and 2  \n",
    "my_data.plot_plddt([0,1])"
   ]
  },
  {
   "cell_type": "markdown",
   "id": "bcfe64f3-71cb-434f-9398-cb6ebdfdef8c",
   "metadata": {},
   "source": [
    "### Plddt pae"
   ]
  },
  {
   "cell_type": "code",
   "execution_count": 8,
   "id": "991851bf-5bde-431c-ae14-20b568a52486",
   "metadata": {},
   "outputs": [
    {
     "data": {
      "text/plain": [
       "(<Figure size 640x480 with 2 Axes>, <Axes: >)"
      ]
     },
     "execution_count": 8,
     "metadata": {},
     "output_type": "execute_result"
    },
    {
     "data": {
      "image/png": "[encoded data removed]",
      "text/plain": [
       "<Figure size 640x480 with 2 Axes>"
      ]
     },
     "metadata": {},
     "output_type": "display_data"
    }
   ],
   "source": [
    "# Model 1\n",
    "my_data.plot_pae(0)"
   ]
  },
  {
   "cell_type": "markdown",
   "id": "2190c34c-177b-445b-8e04-6124180a885c",
   "metadata": {},
   "source": [
    "## Clustering"
   ]
  },
  {
   "cell_type": "code",
   "execution_count": 83,
   "id": "6a31d9a2-3b57-468c-97ad-eeaa31ccab26",
   "metadata": {},
   "outputs": [
    {
     "name": "stdout",
     "output_type": "stream",
     "text": [
      "Read all structures\n",
      "Peptide chain is :B\n",
      "align structures\n"
     ]
    },
    {
     "name": "stderr",
     "output_type": "stream",
     "text": [
      "/home/sdv/m1isdd/areguei/.conda/envs/reguei_ala/lib/python3.12/site-packages/MDAnalysis/coordinates/base.py:725: UserWarning: Reader has no dt information, set to 1.0 ps\n",
      "  return self.ts.dt\n"
     ]
    },
    {
     "data": {
      "application/vnd.jupyter.widget-view+json": {
       "model_id": "ca3c5ed5755140e38e0f4571e30ddde5",
       "version_major": 2,
       "version_minor": 0
      },
      "text/plain": [
       "  0%|          | 0/25 [00:00<?, ?it/s]"
      ]
     },
     "metadata": {},
     "output_type": "display_data"
    },
    {
     "name": "stdout",
     "output_type": "stream",
     "text": [
      "Extract contact residues\n",
      "Contact residues : {6, 8, 11, 12, 13, 15, 16, 18, 19, 20, 21, 22, 23, 25, 26, 27}\n",
      "Compute distance Matrix\n"
     ]
    },
    {
     "data": {
      "application/vnd.jupyter.widget-view+json": {
       "model_id": "b7d3db8f7fc443b3b363588ef80483b1",
       "version_major": 2,
       "version_minor": 0
      },
      "text/plain": [
       "  0%|          | 0/25 [00:00<?, ?it/s]"
      ]
     },
     "metadata": {},
     "output_type": "display_data"
    },
    {
     "name": "stderr",
     "output_type": "stream",
     "text": [
      "/home/sdv/m1isdd/areguei/.conda/envs/reguei_ala/lib/python3.12/site-packages/MDAnalysis/analysis/diffusionmap.py:280: DeprecationWarning: The `dist_matrix` attribute was deprecated in MDAnalysis 2.0.0 and will be removed in MDAnalysis 3.0.0. Please use `results.dist_matrix` instead.\n",
      "  warnings.warn(wmsg, DeprecationWarning)\n"
     ]
    },
    {
     "name": "stdout",
     "output_type": "stream",
     "text": [
      "Max RMSD is 27.11 A\n",
      "Compute Linkage clustering\n",
      "12 clusters founded for 7O6N\n"
     ]
    },
    {
     "data": {
      "image/png": "[encoded data removed]",
      "text/plain": [
       "<Figure size 1500x500 with 1 Axes>"
      ]
     },
     "metadata": {},
     "output_type": "display_data"
    },
    {
     "name": "stderr",
     "output_type": "stream",
     "text": [
      "/home/sdv/m1isdd/areguei/.conda/envs/reguei_ala/lib/python3.12/site-packages/af2_analysis/clustering.py:175: SettingWithCopyWarning: \n",
      "A value is trying to be set on a copy of a slice from a DataFrame.\n",
      "Try using .loc[row_indexer,col_indexer] = value instead\n",
      "\n",
      "See the caveats in the documentation: https://pandas.pydata.org/pandas-docs/stable/user_guide/indexing.html#returning-a-view-versus-a-copy\n",
      "  df[\"cluster\"] = clust_threshold + null_number * [-1]\n"
     ]
    }
   ],
   "source": [
    "# Example : Clustering of 7O6N strucutres\n",
    "sub_df=my_data.df[my_data.df[\"query\"]==\"7O6N\"]\n",
    "clustering.hierarchical(sub_df)"
   ]
  },
  {
   "cell_type": "code",
   "execution_count": 84,
   "id": "f2f0380b-6fcb-4258-842e-97a18bc1431e",
   "metadata": {},
   "outputs": [
    {
     "data": {
      "text/html": [
       "<div>\n",
       "<style scoped>\n",
       "    .dataframe tbody tr th:only-of-type {\n",
       "        vertical-align: middle;\n",
       "    }\n",
       "\n",
       "    .dataframe tbody tr th {\n",
       "        vertical-align: top;\n",
       "    }\n",
       "\n",
       "    .dataframe thead th {\n",
       "        text-align: right;\n",
       "    }\n",
       "</style>\n",
       "<table border=\"1\" class=\"dataframe\">\n",
       "  <thead>\n",
       "    <tr style=\"text-align: right;\">\n",
       "      <th></th>\n",
       "      <th>query</th>\n",
       "      <th>seed</th>\n",
       "      <th>model</th>\n",
       "      <th>weight</th>\n",
       "      <th>recycle</th>\n",
       "      <th>pLDDT</th>\n",
       "      <th>pTM</th>\n",
       "      <th>ipTM</th>\n",
       "      <th>ranking_confidence</th>\n",
       "      <th>pdb</th>\n",
       "      <th>...</th>\n",
       "      <th>PAE_C_B</th>\n",
       "      <th>PAE_C_C</th>\n",
       "      <th>PAE_pep_rec</th>\n",
       "      <th>PAE_rec_pep</th>\n",
       "      <th>pdockq2_lig</th>\n",
       "      <th>LIS</th>\n",
       "      <th>LIS_rec_pep</th>\n",
       "      <th>LIS_pep_rec</th>\n",
       "      <th>plddt_pep</th>\n",
       "      <th>cluster</th>\n",
       "    </tr>\n",
       "  </thead>\n",
       "  <tbody>\n",
       "    <tr>\n",
       "      <th>175</th>\n",
       "      <td>7O6N</td>\n",
       "      <td>0</td>\n",
       "      <td>1</td>\n",
       "      <td>alphafold2_multimer_v3</td>\n",
       "      <td>3</td>\n",
       "      <td>67.9</td>\n",
       "      <td>0.669</td>\n",
       "      <td>0.217</td>\n",
       "      <td>0.3074</td>\n",
       "      <td>/home/sdv/m1isdd/areguei/Bureau/reguei/42_bret...</td>\n",
       "      <td>...</td>\n",
       "      <td>NaN</td>\n",
       "      <td>NaN</td>\n",
       "      <td>21.777284</td>\n",
       "      <td>16.385176</td>\n",
       "      <td>0.011479</td>\n",
       "      <td>[[0.7399053336204731, 0.19127909767218623], [0...</td>\n",
       "      <td>0.085700</td>\n",
       "      <td>0.191279</td>\n",
       "      <td>33.109744</td>\n",
       "      <td>12</td>\n",
       "    </tr>\n",
       "    <tr>\n",
       "      <th>176</th>\n",
       "      <td>7O6N</td>\n",
       "      <td>0</td>\n",
       "      <td>2</td>\n",
       "      <td>alphafold2_multimer_v3</td>\n",
       "      <td>3</td>\n",
       "      <td>68.2</td>\n",
       "      <td>0.654</td>\n",
       "      <td>0.191</td>\n",
       "      <td>0.2836</td>\n",
       "      <td>/home/sdv/m1isdd/areguei/Bureau/reguei/42_bret...</td>\n",
       "      <td>...</td>\n",
       "      <td>NaN</td>\n",
       "      <td>NaN</td>\n",
       "      <td>22.308165</td>\n",
       "      <td>17.608967</td>\n",
       "      <td>0.010211</td>\n",
       "      <td>[[0.7355853433289874, 0.23133113069016153], [0...</td>\n",
       "      <td>0.100023</td>\n",
       "      <td>0.231331</td>\n",
       "      <td>35.276667</td>\n",
       "      <td>7</td>\n",
       "    </tr>\n",
       "    <tr>\n",
       "      <th>177</th>\n",
       "      <td>7O6N</td>\n",
       "      <td>0</td>\n",
       "      <td>3</td>\n",
       "      <td>alphafold2_multimer_v3</td>\n",
       "      <td>3</td>\n",
       "      <td>67.8</td>\n",
       "      <td>0.657</td>\n",
       "      <td>0.182</td>\n",
       "      <td>0.2770</td>\n",
       "      <td>/home/sdv/m1isdd/areguei/Bureau/reguei/42_bret...</td>\n",
       "      <td>...</td>\n",
       "      <td>NaN</td>\n",
       "      <td>NaN</td>\n",
       "      <td>23.072987</td>\n",
       "      <td>17.965342</td>\n",
       "      <td>0.012288</td>\n",
       "      <td>[[0.7442368098380756, 0.22738251879699248], [0...</td>\n",
       "      <td>0.098805</td>\n",
       "      <td>0.227383</td>\n",
       "      <td>33.292821</td>\n",
       "      <td>3</td>\n",
       "    </tr>\n",
       "    <tr>\n",
       "      <th>178</th>\n",
       "      <td>7O6N</td>\n",
       "      <td>0</td>\n",
       "      <td>4</td>\n",
       "      <td>alphafold2_multimer_v3</td>\n",
       "      <td>3</td>\n",
       "      <td>68.3</td>\n",
       "      <td>0.652</td>\n",
       "      <td>0.176</td>\n",
       "      <td>0.2712</td>\n",
       "      <td>/home/sdv/m1isdd/areguei/Bureau/reguei/42_bret...</td>\n",
       "      <td>...</td>\n",
       "      <td>NaN</td>\n",
       "      <td>NaN</td>\n",
       "      <td>22.946657</td>\n",
       "      <td>18.130899</td>\n",
       "      <td>0.009420</td>\n",
       "      <td>[[0.7429343412757774, 0.16144277108433736], [0...</td>\n",
       "      <td>0.071179</td>\n",
       "      <td>0.161443</td>\n",
       "      <td>34.835128</td>\n",
       "      <td>7</td>\n",
       "    </tr>\n",
       "    <tr>\n",
       "      <th>179</th>\n",
       "      <td>7O6N</td>\n",
       "      <td>0</td>\n",
       "      <td>5</td>\n",
       "      <td>alphafold2_multimer_v3</td>\n",
       "      <td>3</td>\n",
       "      <td>65.9</td>\n",
       "      <td>0.647</td>\n",
       "      <td>0.161</td>\n",
       "      <td>0.2582</td>\n",
       "      <td>/home/sdv/m1isdd/areguei/Bureau/reguei/42_bret...</td>\n",
       "      <td>...</td>\n",
       "      <td>NaN</td>\n",
       "      <td>NaN</td>\n",
       "      <td>23.890301</td>\n",
       "      <td>18.327476</td>\n",
       "      <td>0.008786</td>\n",
       "      <td>[[0.737623125564589, 0.17724919093851133], [0....</td>\n",
       "      <td>0.071105</td>\n",
       "      <td>0.177249</td>\n",
       "      <td>30.011538</td>\n",
       "      <td>4</td>\n",
       "    </tr>\n",
       "  </tbody>\n",
       "</table>\n",
       "<p>5 rows × 32 columns</p>\n",
       "</div>"
      ],
      "text/plain": [
       "    query  seed  model                  weight  recycle  pLDDT    pTM   ipTM  \\\n",
       "175  7O6N     0      1  alphafold2_multimer_v3        3   67.9  0.669  0.217   \n",
       "176  7O6N     0      2  alphafold2_multimer_v3        3   68.2  0.654  0.191   \n",
       "177  7O6N     0      3  alphafold2_multimer_v3        3   67.8  0.657  0.182   \n",
       "178  7O6N     0      4  alphafold2_multimer_v3        3   68.3  0.652  0.176   \n",
       "179  7O6N     0      5  alphafold2_multimer_v3        3   65.9  0.647  0.161   \n",
       "\n",
       "     ranking_confidence                                                pdb  \\\n",
       "175              0.3074  /home/sdv/m1isdd/areguei/Bureau/reguei/42_bret...   \n",
       "176              0.2836  /home/sdv/m1isdd/areguei/Bureau/reguei/42_bret...   \n",
       "177              0.2770  /home/sdv/m1isdd/areguei/Bureau/reguei/42_bret...   \n",
       "178              0.2712  /home/sdv/m1isdd/areguei/Bureau/reguei/42_bret...   \n",
       "179              0.2582  /home/sdv/m1isdd/areguei/Bureau/reguei/42_bret...   \n",
       "\n",
       "     ... PAE_C_B  PAE_C_C  PAE_pep_rec  PAE_rec_pep  pdockq2_lig  \\\n",
       "175  ...     NaN      NaN    21.777284    16.385176     0.011479   \n",
       "176  ...     NaN      NaN    22.308165    17.608967     0.010211   \n",
       "177  ...     NaN      NaN    23.072987    17.965342     0.012288   \n",
       "178  ...     NaN      NaN    22.946657    18.130899     0.009420   \n",
       "179  ...     NaN      NaN    23.890301    18.327476     0.008786   \n",
       "\n",
       "                                                   LIS  LIS_rec_pep  \\\n",
       "175  [[0.7399053336204731, 0.19127909767218623], [0...     0.085700   \n",
       "176  [[0.7355853433289874, 0.23133113069016153], [0...     0.100023   \n",
       "177  [[0.7442368098380756, 0.22738251879699248], [0...     0.098805   \n",
       "178  [[0.7429343412757774, 0.16144277108433736], [0...     0.071179   \n",
       "179  [[0.737623125564589, 0.17724919093851133], [0....     0.071105   \n",
       "\n",
       "     LIS_pep_rec  plddt_pep  cluster  \n",
       "175     0.191279  33.109744       12  \n",
       "176     0.231331  35.276667        7  \n",
       "177     0.227383  33.292821        3  \n",
       "178     0.161443  34.835128        7  \n",
       "179     0.177249  30.011538        4  \n",
       "\n",
       "[5 rows x 32 columns]"
      ]
     },
     "execution_count": 84,
     "metadata": {},
     "output_type": "execute_result"
    }
   ],
   "source": [
    "# Updated Dataframe\n",
    "sub_df.head()"
   ]
  },
  {
   "cell_type": "markdown",
   "id": "25b2acb3-e6da-4167-ad42-50560aa04a8e",
   "metadata": {},
   "source": [
    "## Principal component analysis"
   ]
  },
  {
   "cell_type": "code",
   "execution_count": 71,
   "id": "f09e4848-6e28-4e16-a9df-ad19b7dc834d",
   "metadata": {},
   "outputs": [
    {
     "name": "stderr",
     "output_type": "stream",
     "text": [
      "/home/sdv/m1isdd/areguei/.conda/envs/reguei_ala/lib/python3.12/site-packages/MDAnalysis/coordinates/base.py:725: UserWarning: Reader has no dt information, set to 1.0 ps\n",
      "  return self.ts.dt\n",
      "/home/sdv/m1isdd/areguei/.conda/envs/reguei_ala/lib/python3.12/site-packages/af2_analysis/clustering.py:429: SettingWithCopyWarning: \n",
      "A value is trying to be set on a copy of a slice from a DataFrame.\n",
      "Try using .loc[row_indexer,col_indexer] = value instead\n",
      "\n",
      "See the caveats in the documentation: https://pandas.pydata.org/pandas-docs/stable/user_guide/indexing.html#returning-a-view-versus-a-copy\n",
      "  df[f\"PC{i+1}\"] = pc_list[i] + null_number * [np.nan]\n",
      "/home/sdv/m1isdd/areguei/.conda/envs/reguei_ala/lib/python3.12/site-packages/af2_analysis/clustering.py:469: SettingWithCopyWarning: \n",
      "A value is trying to be set on a copy of a slice from a DataFrame.\n",
      "Try using .loc[row_indexer,col_indexer] = value instead\n",
      "\n",
      "See the caveats in the documentation: https://pandas.pydata.org/pandas-docs/stable/user_guide/indexing.html#returning-a-view-versus-a-copy\n",
      "  keep_clust_df[\"cluster\"] = keep_clust_df[\"cluster\"].astype('category')\n"
     ]
    },
    {
     "data": {
      "image/png": "[encoded data removed]",
      "text/plain": [
       "<Figure size 1000x600 with 1 Axes>"
      ]
     },
     "metadata": {},
     "output_type": "display_data"
    }
   ],
   "source": [
    "# # Example : 7O6N strucutres\n",
    "clustering.compute_pc(sub_df)\n",
    "clustering.plot_pc(sub_df)"
   ]
  }
 ],
 "metadata": {
  "kernelspec": {
   "display_name": "Python 3 (ipykernel)",
   "language": "python",
   "name": "python3"
  },
  "language_info": {
   "codemirror_mode": {
    "name": "ipython",
    "version": 3
   },
   "file_extension": ".py",
   "mimetype": "text/x-python",
   "name": "python",
   "nbconvert_exporter": "python",
   "pygments_lexer": "ipython3",
   "version": "3.10.12"
  }
 },
 "nbformat": 4,
 "nbformat_minor": 5
}
