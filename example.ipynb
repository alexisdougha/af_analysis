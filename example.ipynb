{
 "cells": [
  {
   "cell_type": "code",
   "execution_count": null,
   "metadata": {},
   "outputs": [],
   "source": [
    "import sys\n",
    "\n",
    "sys.path.insert(0, './src/')\n",
    "\n",
    "import af2_analysis\n",
    "from af2_analysis import analysis\n",
    "from af2_analysis import docking\n",
    "from af2_analysis import clustering\n",
    "print(af2_analysis.__file__)"
   ]
  },
  {
   "cell_type": "markdown",
   "metadata": {},
   "source": [
    "## Importing Data"
   ]
  },
  {
   "cell_type": "code",
   "execution_count": null,
   "metadata": {},
   "outputs": [],
   "source": [
    "my_data = af2_analysis.Data('./src/af2_analysis/test/inputs/beta_amyloid_dimer_cf_1.5.5/', verbose=False)"
   ]
  },
  {
   "cell_type": "markdown",
   "metadata": {},
   "source": [
    "## Interactive ploting"
   ]
  },
  {
   "cell_type": "code",
   "execution_count": null,
   "metadata": {},
   "outputs": [],
   "source": [
    "my_data.show_plot_info()"
   ]
  },
  {
   "cell_type": "code",
   "execution_count": null,
   "metadata": {},
   "outputs": [],
   "source": [
    "my_data.chain_length"
   ]
  },
  {
   "cell_type": "markdown",
   "metadata": {},
   "source": [
    "## Several analysis"
   ]
  },
  {
   "cell_type": "code",
   "execution_count": null,
   "metadata": {},
   "outputs": [],
   "source": [
    "# Compute pdockq\n",
    "analysis.pdockq(my_data, verbose=False)\n",
    "# Compute pdockq2\n",
    "analysis.pdockq2(my_data, verbose=False)\n",
    "\n",
    "#extract_pae_pep\n",
    "docking.pae_pep(my_data, verbose=False)\n",
    "#compute_pdockq2_lig\n",
    "docking.pdockq2_lig(my_data, verbose=False)\n",
    "#compute_LIS_pep\n",
    "docking.LIS_pep(my_data, verbose=False)\n",
    "#extract_plddt_pep\n",
    "docking.plddt_pep(my_data, verbose=False)"
   ]
  },
  {
   "cell_type": "markdown",
   "metadata": {},
   "source": [
    "## Clustering"
   ]
  },
  {
   "cell_type": "code",
   "execution_count": null,
   "metadata": {},
   "outputs": [],
   "source": [
    "clustering.hierarchical(my_data.df, threshold=0.3)"
   ]
  },
  {
   "cell_type": "code",
   "execution_count": null,
   "metadata": {},
   "outputs": [],
   "source": [
    "my_data.df"
   ]
  },
  {
   "cell_type": "markdown",
   "metadata": {},
   "source": [
    "## LIS Score example"
   ]
  },
  {
   "cell_type": "code",
   "execution_count": null,
   "metadata": {},
   "outputs": [],
   "source": [
    "for col in ['LIS_rec_pep', 'LIS_pep_rec']:\n",
    "    print(my_data.df.iloc[0][col])"
   ]
  },
  {
   "cell_type": "code",
   "execution_count": null,
   "metadata": {},
   "outputs": [],
   "source": [
    "my_data.df.iloc[0]['LIS']"
   ]
  },
  {
   "cell_type": "markdown",
   "metadata": {},
   "source": [
    "Here is the PAE matrix used for calculation"
   ]
  },
  {
   "cell_type": "code",
   "execution_count": null,
   "metadata": {},
   "outputs": [],
   "source": [
    "my_data.plot_pae(0)"
   ]
  },
  {
   "cell_type": "markdown",
   "metadata": {},
   "source": [
    "And here the mask to compute the LIS value based on the PAE matrix."
   ]
  },
  {
   "cell_type": "code",
   "execution_count": null,
   "metadata": {},
   "outputs": [],
   "source": [
    "from cmcrameri import cm\n",
    "import numpy as np\n",
    "import matplotlib.pyplot as plt\n",
    "\n",
    "pae_cutoff=12.0\n",
    "index = 0\n",
    "\n",
    "row = my_data.df.iloc[index]\n",
    "res_max = sum(my_data.chain_length[row[\"query\"]])\n",
    "pae_array = af2_analysis.data.get_pae(my_data.df.iloc[index]['json'])\n",
    "\n",
    "img = plt.imshow(\n",
    "    pae_array > pae_cutoff,\n",
    "    vmin=0.0,\n",
    "    vmax=1.0,\n",
    ")\n",
    "\n",
    "\n",
    "plt.hlines(\n",
    "    np.cumsum(my_data.chain_length[row[\"query\"]][:-1]) - 0.5,\n",
    "    xmin=-0.5,\n",
    "    xmax=res_max,\n",
    "    colors=\"black\",\n",
    ")\n",
    "\n",
    "plt.vlines(\n",
    "    np.cumsum(my_data.chain_length[row[\"query\"]][:-1]) - 0.5,\n",
    "    ymin=-0.5,\n",
    "    ymax=res_max,\n",
    "    colors=\"black\",\n",
    ")\n",
    "\n",
    "plt.xlim(-0.5, res_max - 0.5)\n",
    "plt.ylim(res_max - 0.5, -0.5)"
   ]
  }
 ],
 "metadata": {
  "kernelspec": {
   "display_name": "Python 3 (ipykernel)",
   "language": "python",
   "name": "python3"
  },
  "language_info": {
   "codemirror_mode": {
    "name": "ipython",
    "version": 3
   },
   "file_extension": ".py",
   "mimetype": "text/x-python",
   "name": "python",
   "nbconvert_exporter": "python",
   "pygments_lexer": "ipython3",
   "version": "3.10.13"
  }
 },
 "nbformat": 4,
 "nbformat_minor": 4
}
