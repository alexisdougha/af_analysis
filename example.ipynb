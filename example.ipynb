{
 "cells": [
  {
   "cell_type": "code",
   "execution_count": 1,
   "metadata": {},
   "outputs": [
    {
     "name": "stdout",
     "output_type": "stream",
     "text": [
      "/home/murail/Documents/Code/af2_analysis/./src/af2_analysis/__init__.py\n"
     ]
    },
    {
     "name": "stderr",
     "output_type": "stream",
     "text": [
      "/home/murail/miniforge3/envs/docking/lib/python3.10/site-packages/Bio/Application/__init__.py:40: BiopythonDeprecationWarning: The Bio.Application modules and modules relying on it have been deprecated.\n",
      "\n",
      "Due to the on going maintenance burden of keeping command line application\n",
      "wrappers up to date, we have decided to deprecate and eventually remove these\n",
      "modules.\n",
      "\n",
      "We instead now recommend building your command line and invoking it directly\n",
      "with the subprocess module.\n",
      "  warnings.warn(\n"
     ]
    }
   ],
   "source": [
    "import sys\n",
    "sys.path.insert(0, './src/')\n",
    "import af2_analysis\n",
    "from af2_analysis import analysis\n",
    "from af2_analysis import docking\n",
    "from af2_analysis import clustering\n",
    "print(af2_analysis.__file__)"
   ]
  },
  {
   "cell_type": "code",
   "execution_count": 2,
   "metadata": {},
   "outputs": [],
   "source": [
    "my_data = af2_analysis.Data('./src/af2_analysis/test/inputs/fold_2024_07_01_12_14_prot_dna_zn/', verbose=False)"
   ]
  },
  {
   "cell_type": "code",
   "execution_count": 3,
   "metadata": {},
   "outputs": [
    {
     "data": {
      "application/vnd.jupyter.widget-view+json": {
       "model_id": "92d99ed1244b43a4a1dcaef93144351f",
       "version_major": 2,
       "version_minor": 0
      },
      "text/plain": [
       "IntSlider(value=1, description='model:', max=5, min=1)"
      ]
     },
     "metadata": {},
     "output_type": "display_data"
    },
    {
     "data": {
      "application/vnd.jupyter.widget-view+json": {
       "model_id": "3e3be126efa54b158abbd76943b58521",
       "version_major": 2,
       "version_minor": 0
      },
      "text/plain": [
       "Output(layout=Layout(width='95%'))"
      ]
     },
     "metadata": {},
     "output_type": "display_data"
    }
   ],
   "source": [
    "my_data.show_plot_info()"
   ]
  },
  {
   "cell_type": "code",
   "execution_count": 4,
   "metadata": {},
   "outputs": [
    {
     "data": {
      "text/plain": [
       "{'2024_07_01_12_14_prot_dna_zn': [90, 1, 1, 1, 11, 11]}"
      ]
     },
     "execution_count": 4,
     "metadata": {},
     "output_type": "execute_result"
    }
   ],
   "source": [
    "my_data.chain_length"
   ]
  },
  {
   "cell_type": "code",
   "execution_count": 5,
   "metadata": {},
   "outputs": [],
   "source": [
    "\n",
    "analysis.pdockq(my_data, verbose=False)"
   ]
  },
  {
   "cell_type": "code",
   "execution_count": 6,
   "metadata": {},
   "outputs": [],
   "source": [
    "analysis.pdockq2(my_data, verbose=False)"
   ]
  },
  {
   "cell_type": "code",
   "execution_count": 7,
   "metadata": {},
   "outputs": [],
   "source": [
    "\n",
    "\n",
    "#extract_pae_pep\n",
    "docking.pae_pep(my_data, verbose=False)\n",
    "#compute_pdockq2_lig\n",
    "docking.pdockq2_lig(my_data, verbose=False)\n",
    "#compute_LIS_pep\n",
    "docking.LIS_pep(my_data, verbose=False)\n",
    "#extract_plddt_pep\n",
    "docking.plddt_pep(my_data, verbose=False)\n"
   ]
  },
  {
   "cell_type": "code",
   "execution_count": 8,
   "metadata": {},
   "outputs": [
    {
     "name": "stderr",
     "output_type": "stream",
     "text": [
      "No cell information in mmCIF file\n"
     ]
    },
    {
     "name": "stdout",
     "output_type": "stream",
     "text": [
      "Read all structures\n",
      "Peptide chain is :F\n",
      "align structures\n"
     ]
    },
    {
     "name": "stderr",
     "output_type": "stream",
     "text": [
      "/home/murail/miniforge3/envs/docking/lib/python3.10/site-packages/MDAnalysis/core/universe.py:658: UserWarning: Reader has no dt information, set to 1.0 ps\n",
      "  dt=self.trajectory.ts.dt * step,\n"
     ]
    },
    {
     "data": {
      "application/vnd.jupyter.widget-view+json": {
       "model_id": "2061bae2ffe642afb974e5ab3a63177c",
       "version_major": 2,
       "version_minor": 0
      },
      "text/plain": [
       "  0%|          | 0/5 [00:00<?, ?it/s]"
      ]
     },
     "metadata": {},
     "output_type": "display_data"
    },
    {
     "name": "stdout",
     "output_type": "stream",
     "text": [
      "Extract contact residues\n",
      "Contact residues : {1, 2, 3, 4, 5, 6, 7, 8, 9, 10, 11}\n",
      "Compute distance Matrix\n"
     ]
    },
    {
     "data": {
      "application/vnd.jupyter.widget-view+json": {
       "model_id": "011fadae99bf4076992f12bb0ee2c700",
       "version_major": 2,
       "version_minor": 0
      },
      "text/plain": [
       "  0%|          | 0/5 [00:00<?, ?it/s]"
      ]
     },
     "metadata": {},
     "output_type": "display_data"
    },
    {
     "name": "stdout",
     "output_type": "stream",
     "text": [
      "Max RMSD is 0.00 A\n",
      "Compute Linkage clustering\n",
      "1 clusters founded for 2024_07_01_12_14_prot_dna_zn\n"
     ]
    },
    {
     "name": "stderr",
     "output_type": "stream",
     "text": [
      "/home/murail/miniforge3/envs/docking/lib/python3.10/site-packages/MDAnalysis/analysis/rms.py:283: RuntimeWarning: invalid value encountered in scalar divide\n",
      "  return np.sqrt(np.sum((a - b) ** 2) / N)\n",
      "/home/murail/miniforge3/envs/docking/lib/python3.10/site-packages/scipy/cluster/hierarchy.py:2844: UserWarning: Attempting to set identical low and high ylims makes transformation singular; automatically expanding.\n",
      "  ax.set_ylim([0, dvw])\n"
     ]
    },
    {
     "data": {
      "image/png": "[encoded data removed]",
      "text/plain": [
       "<Figure size 1500x500 with 1 Axes>"
      ]
     },
     "metadata": {},
     "output_type": "display_data"
    }
   ],
   "source": [
    "\n",
    "clustering.hierarchical(my_data.df, threshold=0.3)"
   ]
  },
  {
   "cell_type": "code",
   "execution_count": 9,
   "metadata": {},
   "outputs": [
    {
     "data": {
      "text/html": [
       "<div>\n",
       "<style scoped>\n",
       "    .dataframe tbody tr th:only-of-type {\n",
       "        vertical-align: middle;\n",
       "    }\n",
       "\n",
       "    .dataframe tbody tr th {\n",
       "        vertical-align: top;\n",
       "    }\n",
       "\n",
       "    .dataframe thead th {\n",
       "        text-align: right;\n",
       "    }\n",
       "</style>\n",
       "<table border=\"1\" class=\"dataframe\">\n",
       "  <thead>\n",
       "    <tr style=\"text-align: right;\">\n",
       "      <th></th>\n",
       "      <th>pdb</th>\n",
       "      <th>query</th>\n",
       "      <th>model</th>\n",
       "      <th>json</th>\n",
       "      <th>chain_iptm</th>\n",
       "      <th>chain_pair_iptm</th>\n",
       "      <th>chain_pair_pae_min</th>\n",
       "      <th>chain_ptm</th>\n",
       "      <th>fraction_disordered</th>\n",
       "      <th>has_clash</th>\n",
       "      <th>...</th>\n",
       "      <th>pdockq2_E</th>\n",
       "      <th>pdockq2_F</th>\n",
       "      <th>PAE_pep_rec</th>\n",
       "      <th>PAE_rec_pep</th>\n",
       "      <th>pdockq2_lig</th>\n",
       "      <th>LIS</th>\n",
       "      <th>LIS_rec_pep</th>\n",
       "      <th>LIS_pep_rec</th>\n",
       "      <th>plddt_pep</th>\n",
       "      <th>cluster</th>\n",
       "    </tr>\n",
       "  </thead>\n",
       "  <tbody>\n",
       "    <tr>\n",
       "      <th>0</th>\n",
       "      <td>./src/af2_analysis/test/inputs/fold_2024_07_01...</td>\n",
       "      <td>2024_07_01_12_14_prot_dna_zn</td>\n",
       "      <td>0</td>\n",
       "      <td>./src/af2_analysis/test/inputs/fold_2024_07_01...</td>\n",
       "      <td>[0.94, 0.33, 0.34, 0.34, 0.26, 0.25]</td>\n",
       "      <td>[[0.88, 0.95, 0.95, 0.95, 0.93, 0.92], [0.95, ...</td>\n",
       "      <td>[[0.76, 0.77, 0.78, 0.77, 0.82, 0.88], [None, ...</td>\n",
       "      <td>[0.88, None, None, None, 0.04, 0.04]</td>\n",
       "      <td>0.11</td>\n",
       "      <td>0.0</td>\n",
       "      <td>...</td>\n",
       "      <td>0.863591</td>\n",
       "      <td>0.816838</td>\n",
       "      <td>2.162526</td>\n",
       "      <td>2.634860</td>\n",
       "      <td>0.816838</td>\n",
       "      <td>[[0.8313928493568782, 0.8075, 0.85381372549019...</td>\n",
       "      <td>0.858313</td>\n",
       "      <td>0.870503</td>\n",
       "      <td>96.650002</td>\n",
       "      <td>1</td>\n",
       "    </tr>\n",
       "    <tr>\n",
       "      <th>1</th>\n",
       "      <td>./src/af2_analysis/test/inputs/fold_2024_07_01...</td>\n",
       "      <td>2024_07_01_12_14_prot_dna_zn</td>\n",
       "      <td>1</td>\n",
       "      <td>./src/af2_analysis/test/inputs/fold_2024_07_01...</td>\n",
       "      <td>[0.94, 0.33, 0.34, 0.34, 0.26, 0.26]</td>\n",
       "      <td>[[0.89, 0.95, 0.95, 0.95, 0.93, 0.93], [0.95, ...</td>\n",
       "      <td>[[0.76, 0.77, 0.78, 0.77, 0.81, 0.85], [None, ...</td>\n",
       "      <td>[0.89, None, None, None, 0.04, 0.04]</td>\n",
       "      <td>0.00</td>\n",
       "      <td>0.0</td>\n",
       "      <td>...</td>\n",
       "      <td>0.895507</td>\n",
       "      <td>0.839086</td>\n",
       "      <td>2.012054</td>\n",
       "      <td>2.498540</td>\n",
       "      <td>0.839086</td>\n",
       "      <td>[[0.8345469835069445, 0.8149810606060606, 0.85...</td>\n",
       "      <td>0.865806</td>\n",
       "      <td>0.879614</td>\n",
       "      <td>96.578178</td>\n",
       "      <td>1</td>\n",
       "    </tr>\n",
       "    <tr>\n",
       "      <th>2</th>\n",
       "      <td>./src/af2_analysis/test/inputs/fold_2024_07_01...</td>\n",
       "      <td>2024_07_01_12_14_prot_dna_zn</td>\n",
       "      <td>2</td>\n",
       "      <td>./src/af2_analysis/test/inputs/fold_2024_07_01...</td>\n",
       "      <td>[0.94, 0.33, 0.34, 0.34, 0.26, 0.25]</td>\n",
       "      <td>[[0.88, 0.95, 0.95, 0.95, 0.93, 0.92], [0.95, ...</td>\n",
       "      <td>[[0.76, 0.78, 0.78, 0.77, 0.82, 0.88], [None, ...</td>\n",
       "      <td>[0.88, None, None, None, 0.04, 0.04]</td>\n",
       "      <td>0.00</td>\n",
       "      <td>0.0</td>\n",
       "      <td>...</td>\n",
       "      <td>0.862597</td>\n",
       "      <td>0.785205</td>\n",
       "      <td>2.164222</td>\n",
       "      <td>2.683322</td>\n",
       "      <td>0.785205</td>\n",
       "      <td>[[0.8294995195037784, 0.8102586206896554, 0.85...</td>\n",
       "      <td>0.857348</td>\n",
       "      <td>0.868326</td>\n",
       "      <td>96.524544</td>\n",
       "      <td>1</td>\n",
       "    </tr>\n",
       "    <tr>\n",
       "      <th>3</th>\n",
       "      <td>./src/af2_analysis/test/inputs/fold_2024_07_01...</td>\n",
       "      <td>2024_07_01_12_14_prot_dna_zn</td>\n",
       "      <td>3</td>\n",
       "      <td>./src/af2_analysis/test/inputs/fold_2024_07_01...</td>\n",
       "      <td>[0.94, 0.33, 0.34, 0.34, 0.26, 0.25]</td>\n",
       "      <td>[[0.88, 0.95, 0.95, 0.95, 0.93, 0.92], [0.95, ...</td>\n",
       "      <td>[[0.76, 0.78, 0.78, 0.77, 0.82, 0.88], [None, ...</td>\n",
       "      <td>[0.88, None, None, None, 0.04, 0.04]</td>\n",
       "      <td>0.00</td>\n",
       "      <td>0.0</td>\n",
       "      <td>...</td>\n",
       "      <td>0.868947</td>\n",
       "      <td>0.828406</td>\n",
       "      <td>2.195306</td>\n",
       "      <td>2.708514</td>\n",
       "      <td>0.828406</td>\n",
       "      <td>[[0.8281787696072005, 0.8082375478927204, 0.85...</td>\n",
       "      <td>0.855269</td>\n",
       "      <td>0.867576</td>\n",
       "      <td>96.534546</td>\n",
       "      <td>1</td>\n",
       "    </tr>\n",
       "    <tr>\n",
       "      <th>4</th>\n",
       "      <td>./src/af2_analysis/test/inputs/fold_2024_07_01...</td>\n",
       "      <td>2024_07_01_12_14_prot_dna_zn</td>\n",
       "      <td>4</td>\n",
       "      <td>./src/af2_analysis/test/inputs/fold_2024_07_01...</td>\n",
       "      <td>[0.94, 0.33, 0.34, 0.34, 0.26, 0.25]</td>\n",
       "      <td>[[0.88, 0.95, 0.95, 0.95, 0.93, 0.92], [0.95, ...</td>\n",
       "      <td>[[0.76, 0.78, 0.78, 0.77, 0.83, 0.89], [None, ...</td>\n",
       "      <td>[0.88, None, None, None, 0.04, 0.03]</td>\n",
       "      <td>0.00</td>\n",
       "      <td>0.0</td>\n",
       "      <td>...</td>\n",
       "      <td>0.875916</td>\n",
       "      <td>0.803026</td>\n",
       "      <td>2.155734</td>\n",
       "      <td>2.648995</td>\n",
       "      <td>0.803026</td>\n",
       "      <td>[[0.8307126805428285, 0.8140421455938698, 0.85...</td>\n",
       "      <td>0.856419</td>\n",
       "      <td>0.867672</td>\n",
       "      <td>96.482735</td>\n",
       "      <td>1</td>\n",
       "    </tr>\n",
       "  </tbody>\n",
       "</table>\n",
       "<p>5 rows × 29 columns</p>\n",
       "</div>"
      ],
      "text/plain": [
       "                                                 pdb  \\\n",
       "0  ./src/af2_analysis/test/inputs/fold_2024_07_01...   \n",
       "1  ./src/af2_analysis/test/inputs/fold_2024_07_01...   \n",
       "2  ./src/af2_analysis/test/inputs/fold_2024_07_01...   \n",
       "3  ./src/af2_analysis/test/inputs/fold_2024_07_01...   \n",
       "4  ./src/af2_analysis/test/inputs/fold_2024_07_01...   \n",
       "\n",
       "                          query  model  \\\n",
       "0  2024_07_01_12_14_prot_dna_zn      0   \n",
       "1  2024_07_01_12_14_prot_dna_zn      1   \n",
       "2  2024_07_01_12_14_prot_dna_zn      2   \n",
       "3  2024_07_01_12_14_prot_dna_zn      3   \n",
       "4  2024_07_01_12_14_prot_dna_zn      4   \n",
       "\n",
       "                                                json  \\\n",
       "0  ./src/af2_analysis/test/inputs/fold_2024_07_01...   \n",
       "1  ./src/af2_analysis/test/inputs/fold_2024_07_01...   \n",
       "2  ./src/af2_analysis/test/inputs/fold_2024_07_01...   \n",
       "3  ./src/af2_analysis/test/inputs/fold_2024_07_01...   \n",
       "4  ./src/af2_analysis/test/inputs/fold_2024_07_01...   \n",
       "\n",
       "                             chain_iptm  \\\n",
       "0  [0.94, 0.33, 0.34, 0.34, 0.26, 0.25]   \n",
       "1  [0.94, 0.33, 0.34, 0.34, 0.26, 0.26]   \n",
       "2  [0.94, 0.33, 0.34, 0.34, 0.26, 0.25]   \n",
       "3  [0.94, 0.33, 0.34, 0.34, 0.26, 0.25]   \n",
       "4  [0.94, 0.33, 0.34, 0.34, 0.26, 0.25]   \n",
       "\n",
       "                                     chain_pair_iptm  \\\n",
       "0  [[0.88, 0.95, 0.95, 0.95, 0.93, 0.92], [0.95, ...   \n",
       "1  [[0.89, 0.95, 0.95, 0.95, 0.93, 0.93], [0.95, ...   \n",
       "2  [[0.88, 0.95, 0.95, 0.95, 0.93, 0.92], [0.95, ...   \n",
       "3  [[0.88, 0.95, 0.95, 0.95, 0.93, 0.92], [0.95, ...   \n",
       "4  [[0.88, 0.95, 0.95, 0.95, 0.93, 0.92], [0.95, ...   \n",
       "\n",
       "                                  chain_pair_pae_min  \\\n",
       "0  [[0.76, 0.77, 0.78, 0.77, 0.82, 0.88], [None, ...   \n",
       "1  [[0.76, 0.77, 0.78, 0.77, 0.81, 0.85], [None, ...   \n",
       "2  [[0.76, 0.78, 0.78, 0.77, 0.82, 0.88], [None, ...   \n",
       "3  [[0.76, 0.78, 0.78, 0.77, 0.82, 0.88], [None, ...   \n",
       "4  [[0.76, 0.78, 0.78, 0.77, 0.83, 0.89], [None, ...   \n",
       "\n",
       "                              chain_ptm  fraction_disordered  has_clash  ...  \\\n",
       "0  [0.88, None, None, None, 0.04, 0.04]                 0.11        0.0  ...   \n",
       "1  [0.89, None, None, None, 0.04, 0.04]                 0.00        0.0  ...   \n",
       "2  [0.88, None, None, None, 0.04, 0.04]                 0.00        0.0  ...   \n",
       "3  [0.88, None, None, None, 0.04, 0.04]                 0.00        0.0  ...   \n",
       "4  [0.88, None, None, None, 0.04, 0.03]                 0.00        0.0  ...   \n",
       "\n",
       "   pdockq2_E  pdockq2_F  PAE_pep_rec  PAE_rec_pep  pdockq2_lig  \\\n",
       "0   0.863591   0.816838     2.162526     2.634860     0.816838   \n",
       "1   0.895507   0.839086     2.012054     2.498540     0.839086   \n",
       "2   0.862597   0.785205     2.164222     2.683322     0.785205   \n",
       "3   0.868947   0.828406     2.195306     2.708514     0.828406   \n",
       "4   0.875916   0.803026     2.155734     2.648995     0.803026   \n",
       "\n",
       "                                                 LIS  LIS_rec_pep  \\\n",
       "0  [[0.8313928493568782, 0.8075, 0.85381372549019...     0.858313   \n",
       "1  [[0.8345469835069445, 0.8149810606060606, 0.85...     0.865806   \n",
       "2  [[0.8294995195037784, 0.8102586206896554, 0.85...     0.857348   \n",
       "3  [[0.8281787696072005, 0.8082375478927204, 0.85...     0.855269   \n",
       "4  [[0.8307126805428285, 0.8140421455938698, 0.85...     0.856419   \n",
       "\n",
       "   LIS_pep_rec  plddt_pep  cluster  \n",
       "0     0.870503  96.650002        1  \n",
       "1     0.879614  96.578178        1  \n",
       "2     0.868326  96.524544        1  \n",
       "3     0.867576  96.534546        1  \n",
       "4     0.867672  96.482735        1  \n",
       "\n",
       "[5 rows x 29 columns]"
      ]
     },
     "execution_count": 9,
     "metadata": {},
     "output_type": "execute_result"
    }
   ],
   "source": [
    "my_data.df"
   ]
  },
  {
   "cell_type": "code",
   "execution_count": null,
   "metadata": {},
   "outputs": [],
   "source": []
  }
 ],
 "metadata": {
  "kernelspec": {
   "display_name": "Python 3 (ipykernel)",
   "language": "python",
   "name": "python3"
  },
  "language_info": {
   "codemirror_mode": {
    "name": "ipython",
    "version": 3
   },
   "file_extension": ".py",
   "mimetype": "text/x-python",
   "name": "python",
   "nbconvert_exporter": "python",
   "pygments_lexer": "ipython3",
   "version": "3.10.13"
  }
 },
 "nbformat": 4,
 "nbformat_minor": 4
}
